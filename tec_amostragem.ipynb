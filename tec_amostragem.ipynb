{
  "nbformat": 4,
  "nbformat_minor": 0,
  "metadata": {
    "colab": {
      "name": "tec_amostragem.ipynb",
      "provenance": [],
      "collapsed_sections": [],
      "authorship_tag": "ABX9TyNxlJiIuQxtWMlIjqeYhPr0",
      "include_colab_link": true
    },
    "kernelspec": {
      "name": "python3",
      "display_name": "Python 3"
    }
  },
  "cells": [
    {
      "cell_type": "markdown",
      "metadata": {
        "id": "view-in-github",
        "colab_type": "text"
      },
      "source": [
        "<a href=\"https://colab.research.google.com/github/JulioHenri/Tecnicas-de-amostragem/blob/main/tec_amostragem.ipynb\" target=\"_parent\"><img src=\"https://colab.research.google.com/assets/colab-badge.svg\" alt=\"Open In Colab\"/></a>"
      ]
    },
    {
      "cell_type": "markdown",
      "metadata": {
        "id": "ewTpkhhZ7lDV"
      },
      "source": [
        "# Importando bibliotecas"
      ]
    },
    {
      "cell_type": "code",
      "metadata": {
        "id": "Dj_IMDaK7gNC"
      },
      "source": [
        "import pandas as pd\n",
        "import numpy as np\n",
        "from sklearn.model_selection import train_test_split "
      ],
      "execution_count": 2,
      "outputs": []
    },
    {
      "cell_type": "markdown",
      "metadata": {
        "id": "iM_m-qEp7tZF"
      },
      "source": [
        "# Carregando e lendo o banco de dados"
      ]
    },
    {
      "cell_type": "code",
      "metadata": {
        "id": "NsWtAGIM7kTM",
        "colab": {
          "base_uri": "https://localhost:8080/",
          "height": 292
        },
        "outputId": "98d712c8-0b6c-4828-d057-ee410876413b"
      },
      "source": [
        "dados = pd.read_csv('HR_Engagement_Sat_Sales_UpdatedV4.0.csv') #carregando arquivo csv\n",
        "dados.head() #lendo os 5 primeiros registros do dataset"
      ],
      "execution_count": 3,
      "outputs": [
        {
          "output_type": "execute_result",
          "data": {
            "text/html": [
              "<div>\n",
              "<style scoped>\n",
              "    .dataframe tbody tr th:only-of-type {\n",
              "        vertical-align: middle;\n",
              "    }\n",
              "\n",
              "    .dataframe tbody tr th {\n",
              "        vertical-align: top;\n",
              "    }\n",
              "\n",
              "    .dataframe thead th {\n",
              "        text-align: right;\n",
              "    }\n",
              "</style>\n",
              "<table border=\"1\" class=\"dataframe\">\n",
              "  <thead>\n",
              "    <tr style=\"text-align: right;\">\n",
              "      <th></th>\n",
              "      <th>ID</th>\n",
              "      <th>Name</th>\n",
              "      <th>Department</th>\n",
              "      <th>GEO</th>\n",
              "      <th>Role</th>\n",
              "      <th>Rising_Star</th>\n",
              "      <th>Will_Relocate</th>\n",
              "      <th>Critical</th>\n",
              "      <th>Trending Perf</th>\n",
              "      <th>Talent_Level</th>\n",
              "      <th>Validated_Talent_Level</th>\n",
              "      <th>Percent_Remote</th>\n",
              "      <th>EMP_Sat_OnPrem_1</th>\n",
              "      <th>EMP_Sat_OnPrem_2</th>\n",
              "      <th>EMP_Sat_OnPrem_3</th>\n",
              "      <th>EMP_Sat_OnPrem_4</th>\n",
              "      <th>EMP_Sat_OnPrem_5</th>\n",
              "      <th>EMP_Sat_Remote_1</th>\n",
              "      <th>EMP_Sat_Remote_2</th>\n",
              "      <th>EMP_Sat_Remote_3</th>\n",
              "      <th>EMP_Sat_Remote_4</th>\n",
              "      <th>EMP_Sat_Remote_5</th>\n",
              "      <th>EMP_Engagement_1</th>\n",
              "      <th>EMP_Engagement_2</th>\n",
              "      <th>EMP_Engagement_3</th>\n",
              "      <th>EMP_Engagement_4</th>\n",
              "      <th>EMP_Engagement_5</th>\n",
              "      <th>last_evaluation</th>\n",
              "      <th>number_project</th>\n",
              "      <th>average_montly_hours</th>\n",
              "      <th>time_spend_company</th>\n",
              "      <th>Work_accident</th>\n",
              "      <th>left_Company</th>\n",
              "      <th>CSR Factor</th>\n",
              "      <th>promotion_last_5years</th>\n",
              "      <th>sales</th>\n",
              "      <th>salary</th>\n",
              "      <th>Gender</th>\n",
              "      <th>LinkedIn_Hits</th>\n",
              "      <th>Emp_Work_Status2</th>\n",
              "      <th>Emp_Work_Status_3</th>\n",
              "      <th>Emp_Work_Status_4</th>\n",
              "      <th>Emp_Work_Status_5</th>\n",
              "      <th>Emp_Identity</th>\n",
              "      <th>Emp_Role</th>\n",
              "      <th>Emp_Position</th>\n",
              "      <th>Emp_Title</th>\n",
              "      <th>Women_Leave</th>\n",
              "      <th>Men_Leave</th>\n",
              "      <th>Emp_Competitive_1</th>\n",
              "      <th>Emp_Competitive_2</th>\n",
              "      <th>Emp_Competitive_3</th>\n",
              "      <th>Emp_Competitive_4</th>\n",
              "      <th>Emp_Competitive_5</th>\n",
              "      <th>Emp_Collaborative_1</th>\n",
              "      <th>Emp_Collaborative_2</th>\n",
              "      <th>Emp_Collaborative_3</th>\n",
              "      <th>Emp_Collaborative_4</th>\n",
              "      <th>Emp_Collaborative_5</th>\n",
              "      <th>Sensor_StepCount</th>\n",
              "      <th>Sensor_Heartbeat(Average/Min)</th>\n",
              "      <th>Sensor_Proximity(1-highest/10-lowest)</th>\n",
              "    </tr>\n",
              "  </thead>\n",
              "  <tbody>\n",
              "    <tr>\n",
              "      <th>0</th>\n",
              "      <td>1</td>\n",
              "      <td>BRADDY</td>\n",
              "      <td>Operations</td>\n",
              "      <td>US</td>\n",
              "      <td>VP</td>\n",
              "      <td>NaN</td>\n",
              "      <td>0</td>\n",
              "      <td>1.0</td>\n",
              "      <td>3</td>\n",
              "      <td>6</td>\n",
              "      <td>6</td>\n",
              "      <td>0.4</td>\n",
              "      <td>3.0</td>\n",
              "      <td>3.0</td>\n",
              "      <td>4.0</td>\n",
              "      <td>3.0</td>\n",
              "      <td>5.0</td>\n",
              "      <td>2</td>\n",
              "      <td>3</td>\n",
              "      <td>2</td>\n",
              "      <td>3</td>\n",
              "      <td>2</td>\n",
              "      <td>5</td>\n",
              "      <td>5</td>\n",
              "      <td>4</td>\n",
              "      <td>4</td>\n",
              "      <td>3</td>\n",
              "      <td>0.36</td>\n",
              "      <td>3</td>\n",
              "      <td>168</td>\n",
              "      <td>3</td>\n",
              "      <td>1</td>\n",
              "      <td>0</td>\n",
              "      <td>NaN</td>\n",
              "      <td>0</td>\n",
              "      <td>sales</td>\n",
              "      <td>low</td>\n",
              "      <td>M</td>\n",
              "      <td>5</td>\n",
              "      <td>4</td>\n",
              "      <td>3</td>\n",
              "      <td>1</td>\n",
              "      <td>1</td>\n",
              "      <td>1</td>\n",
              "      <td>1</td>\n",
              "      <td>2</td>\n",
              "      <td>1</td>\n",
              "      <td>NaN</td>\n",
              "      <td>1.0</td>\n",
              "      <td>2</td>\n",
              "      <td>4</td>\n",
              "      <td>2</td>\n",
              "      <td>2</td>\n",
              "      <td>2</td>\n",
              "      <td>2</td>\n",
              "      <td>2</td>\n",
              "      <td>2</td>\n",
              "      <td>1</td>\n",
              "      <td>5</td>\n",
              "      <td>1841</td>\n",
              "      <td>61</td>\n",
              "      <td>9</td>\n",
              "    </tr>\n",
              "    <tr>\n",
              "      <th>1</th>\n",
              "      <td>2</td>\n",
              "      <td>BORST</td>\n",
              "      <td>Sales</td>\n",
              "      <td>UK</td>\n",
              "      <td>Senior Director</td>\n",
              "      <td>NaN</td>\n",
              "      <td>0</td>\n",
              "      <td>NaN</td>\n",
              "      <td>3</td>\n",
              "      <td>6</td>\n",
              "      <td>6</td>\n",
              "      <td>0.4</td>\n",
              "      <td>3.0</td>\n",
              "      <td>3.0</td>\n",
              "      <td>4.0</td>\n",
              "      <td>3.0</td>\n",
              "      <td>5.0</td>\n",
              "      <td>2</td>\n",
              "      <td>3</td>\n",
              "      <td>2</td>\n",
              "      <td>3</td>\n",
              "      <td>2</td>\n",
              "      <td>5</td>\n",
              "      <td>5</td>\n",
              "      <td>4</td>\n",
              "      <td>4</td>\n",
              "      <td>3</td>\n",
              "      <td>0.36</td>\n",
              "      <td>5</td>\n",
              "      <td>159</td>\n",
              "      <td>2</td>\n",
              "      <td>0</td>\n",
              "      <td>0</td>\n",
              "      <td>NaN</td>\n",
              "      <td>0</td>\n",
              "      <td>accounting</td>\n",
              "      <td>low</td>\n",
              "      <td>F</td>\n",
              "      <td>58</td>\n",
              "      <td>3</td>\n",
              "      <td>3</td>\n",
              "      <td>4</td>\n",
              "      <td>3</td>\n",
              "      <td>2</td>\n",
              "      <td>1</td>\n",
              "      <td>2</td>\n",
              "      <td>1</td>\n",
              "      <td>0.0</td>\n",
              "      <td>NaN</td>\n",
              "      <td>2</td>\n",
              "      <td>2</td>\n",
              "      <td>1</td>\n",
              "      <td>4</td>\n",
              "      <td>1</td>\n",
              "      <td>3</td>\n",
              "      <td>2</td>\n",
              "      <td>5</td>\n",
              "      <td>1</td>\n",
              "      <td>5</td>\n",
              "      <td>1990</td>\n",
              "      <td>90</td>\n",
              "      <td>8</td>\n",
              "    </tr>\n",
              "    <tr>\n",
              "      <th>2</th>\n",
              "      <td>3</td>\n",
              "      <td>BIRDWELL</td>\n",
              "      <td>Finance</td>\n",
              "      <td>France</td>\n",
              "      <td>Senior Director</td>\n",
              "      <td>NaN</td>\n",
              "      <td>0</td>\n",
              "      <td>NaN</td>\n",
              "      <td>3</td>\n",
              "      <td>6</td>\n",
              "      <td>6</td>\n",
              "      <td>0.4</td>\n",
              "      <td>3.0</td>\n",
              "      <td>3.0</td>\n",
              "      <td>4.0</td>\n",
              "      <td>3.0</td>\n",
              "      <td>5.0</td>\n",
              "      <td>2</td>\n",
              "      <td>3</td>\n",
              "      <td>2</td>\n",
              "      <td>3</td>\n",
              "      <td>2</td>\n",
              "      <td>5</td>\n",
              "      <td>5</td>\n",
              "      <td>4</td>\n",
              "      <td>4</td>\n",
              "      <td>3</td>\n",
              "      <td>0.36</td>\n",
              "      <td>2</td>\n",
              "      <td>282</td>\n",
              "      <td>3</td>\n",
              "      <td>0</td>\n",
              "      <td>0</td>\n",
              "      <td>NaN</td>\n",
              "      <td>0</td>\n",
              "      <td>product_mng</td>\n",
              "      <td>medium</td>\n",
              "      <td>F</td>\n",
              "      <td>42</td>\n",
              "      <td>2</td>\n",
              "      <td>4</td>\n",
              "      <td>1</td>\n",
              "      <td>3</td>\n",
              "      <td>1</td>\n",
              "      <td>1</td>\n",
              "      <td>2</td>\n",
              "      <td>2</td>\n",
              "      <td>1.0</td>\n",
              "      <td>NaN</td>\n",
              "      <td>1</td>\n",
              "      <td>5</td>\n",
              "      <td>1</td>\n",
              "      <td>2</td>\n",
              "      <td>5</td>\n",
              "      <td>2</td>\n",
              "      <td>2</td>\n",
              "      <td>4</td>\n",
              "      <td>4</td>\n",
              "      <td>4</td>\n",
              "      <td>3193</td>\n",
              "      <td>80</td>\n",
              "      <td>8</td>\n",
              "    </tr>\n",
              "    <tr>\n",
              "      <th>3</th>\n",
              "      <td>4</td>\n",
              "      <td>BENT</td>\n",
              "      <td>Human Resources</td>\n",
              "      <td>China</td>\n",
              "      <td>Senior Director</td>\n",
              "      <td>NaN</td>\n",
              "      <td>0</td>\n",
              "      <td>NaN</td>\n",
              "      <td>3</td>\n",
              "      <td>6</td>\n",
              "      <td>6</td>\n",
              "      <td>0.4</td>\n",
              "      <td>3.0</td>\n",
              "      <td>3.0</td>\n",
              "      <td>4.0</td>\n",
              "      <td>3.0</td>\n",
              "      <td>5.0</td>\n",
              "      <td>2</td>\n",
              "      <td>3</td>\n",
              "      <td>2</td>\n",
              "      <td>3</td>\n",
              "      <td>2</td>\n",
              "      <td>5</td>\n",
              "      <td>5</td>\n",
              "      <td>4</td>\n",
              "      <td>4</td>\n",
              "      <td>3</td>\n",
              "      <td>0.36</td>\n",
              "      <td>4</td>\n",
              "      <td>278</td>\n",
              "      <td>4</td>\n",
              "      <td>1</td>\n",
              "      <td>0</td>\n",
              "      <td>NaN</td>\n",
              "      <td>0</td>\n",
              "      <td>product_mng</td>\n",
              "      <td>high</td>\n",
              "      <td>M</td>\n",
              "      <td>37</td>\n",
              "      <td>3</td>\n",
              "      <td>1</td>\n",
              "      <td>4</td>\n",
              "      <td>5</td>\n",
              "      <td>2</td>\n",
              "      <td>1</td>\n",
              "      <td>2</td>\n",
              "      <td>1</td>\n",
              "      <td>NaN</td>\n",
              "      <td>1.0</td>\n",
              "      <td>1</td>\n",
              "      <td>1</td>\n",
              "      <td>2</td>\n",
              "      <td>5</td>\n",
              "      <td>1</td>\n",
              "      <td>1</td>\n",
              "      <td>2</td>\n",
              "      <td>4</td>\n",
              "      <td>4</td>\n",
              "      <td>1</td>\n",
              "      <td>3248</td>\n",
              "      <td>77</td>\n",
              "      <td>6</td>\n",
              "    </tr>\n",
              "    <tr>\n",
              "      <th>4</th>\n",
              "      <td>5</td>\n",
              "      <td>BAZAN</td>\n",
              "      <td>IT</td>\n",
              "      <td>Korea</td>\n",
              "      <td>Director</td>\n",
              "      <td>NaN</td>\n",
              "      <td>0</td>\n",
              "      <td>NaN</td>\n",
              "      <td>3</td>\n",
              "      <td>6</td>\n",
              "      <td>6</td>\n",
              "      <td>0.4</td>\n",
              "      <td>3.0</td>\n",
              "      <td>3.0</td>\n",
              "      <td>4.0</td>\n",
              "      <td>3.0</td>\n",
              "      <td>5.0</td>\n",
              "      <td>2</td>\n",
              "      <td>3</td>\n",
              "      <td>2</td>\n",
              "      <td>3</td>\n",
              "      <td>2</td>\n",
              "      <td>5</td>\n",
              "      <td>5</td>\n",
              "      <td>4</td>\n",
              "      <td>4</td>\n",
              "      <td>3</td>\n",
              "      <td>0.36</td>\n",
              "      <td>6</td>\n",
              "      <td>256</td>\n",
              "      <td>5</td>\n",
              "      <td>0</td>\n",
              "      <td>0</td>\n",
              "      <td>NaN</td>\n",
              "      <td>0</td>\n",
              "      <td>sales</td>\n",
              "      <td>low</td>\n",
              "      <td>F</td>\n",
              "      <td>6</td>\n",
              "      <td>4</td>\n",
              "      <td>5</td>\n",
              "      <td>4</td>\n",
              "      <td>5</td>\n",
              "      <td>1</td>\n",
              "      <td>1</td>\n",
              "      <td>2</td>\n",
              "      <td>1</td>\n",
              "      <td>1.0</td>\n",
              "      <td>NaN</td>\n",
              "      <td>1</td>\n",
              "      <td>4</td>\n",
              "      <td>1</td>\n",
              "      <td>5</td>\n",
              "      <td>3</td>\n",
              "      <td>5</td>\n",
              "      <td>1</td>\n",
              "      <td>2</td>\n",
              "      <td>5</td>\n",
              "      <td>4</td>\n",
              "      <td>3149</td>\n",
              "      <td>80</td>\n",
              "      <td>10</td>\n",
              "    </tr>\n",
              "  </tbody>\n",
              "</table>\n",
              "</div>"
            ],
            "text/plain": [
              "   ID  ... Sensor_Proximity(1-highest/10-lowest)\n",
              "0   1  ...                                     9\n",
              "1   2  ...                                     8\n",
              "2   3  ...                                     8\n",
              "3   4  ...                                     6\n",
              "4   5  ...                                    10\n",
              "\n",
              "[5 rows x 62 columns]"
            ]
          },
          "metadata": {
            "tags": []
          },
          "execution_count": 3
        }
      ]
    },
    {
      "cell_type": "markdown",
      "metadata": {
        "id": "Ns_4UQHsypoS"
      },
      "source": [
        "###Excluindo variáveis não significantes para o estudo\n",
        "\n",
        "variáveis com média e/ou variância nula, muito pequena ou com muitos dados faltantes."
      ]
    },
    {
      "cell_type": "code",
      "metadata": {
        "id": "U29qSyrxyo94"
      },
      "source": [
        "dados = dados.drop(['ID','Name','Rising_Star','Critical','Trending Perf','Talent_Level','Validated_Talent_Level','EMP_Sat_OnPrem_1','CSR Factor','sales','Women_Leave',\n",
        "           'Men_Leave','EMP_Sat_OnPrem_2','EMP_Sat_OnPrem_3','EMP_Sat_OnPrem_4','EMP_Sat_OnPrem_5', 'EMP_Sat_Remote_3',\t'EMP_Sat_Remote_4', 'EMP_Engagement_1',\n",
        "           'EMP_Engagement_2','EMP_Engagement_3','EMP_Engagement_4','EMP_Engagement_5'], axis = 1)"
      ],
      "execution_count": 4,
      "outputs": []
    },
    {
      "cell_type": "code",
      "metadata": {
        "colab": {
          "base_uri": "https://localhost:8080/",
          "height": 334
        },
        "id": "MUw6MLJkl-mC",
        "outputId": "8115bcf2-0139-4390-8b65-59da5aff2808"
      },
      "source": [
        "dados.describe()"
      ],
      "execution_count": 5,
      "outputs": [
        {
          "output_type": "execute_result",
          "data": {
            "text/html": [
              "<div>\n",
              "<style scoped>\n",
              "    .dataframe tbody tr th:only-of-type {\n",
              "        vertical-align: middle;\n",
              "    }\n",
              "\n",
              "    .dataframe tbody tr th {\n",
              "        vertical-align: top;\n",
              "    }\n",
              "\n",
              "    .dataframe thead th {\n",
              "        text-align: right;\n",
              "    }\n",
              "</style>\n",
              "<table border=\"1\" class=\"dataframe\">\n",
              "  <thead>\n",
              "    <tr style=\"text-align: right;\">\n",
              "      <th></th>\n",
              "      <th>Will_Relocate</th>\n",
              "      <th>Percent_Remote</th>\n",
              "      <th>EMP_Sat_Remote_1</th>\n",
              "      <th>EMP_Sat_Remote_2</th>\n",
              "      <th>EMP_Sat_Remote_5</th>\n",
              "      <th>last_evaluation</th>\n",
              "      <th>number_project</th>\n",
              "      <th>average_montly_hours</th>\n",
              "      <th>time_spend_company</th>\n",
              "      <th>Work_accident</th>\n",
              "      <th>left_Company</th>\n",
              "      <th>promotion_last_5years</th>\n",
              "      <th>LinkedIn_Hits</th>\n",
              "      <th>Emp_Work_Status2</th>\n",
              "      <th>Emp_Work_Status_3</th>\n",
              "      <th>Emp_Work_Status_4</th>\n",
              "      <th>Emp_Work_Status_5</th>\n",
              "      <th>Emp_Identity</th>\n",
              "      <th>Emp_Role</th>\n",
              "      <th>Emp_Position</th>\n",
              "      <th>Emp_Title</th>\n",
              "      <th>Emp_Competitive_1</th>\n",
              "      <th>Emp_Competitive_2</th>\n",
              "      <th>Emp_Competitive_3</th>\n",
              "      <th>Emp_Competitive_4</th>\n",
              "      <th>Emp_Competitive_5</th>\n",
              "      <th>Emp_Collaborative_1</th>\n",
              "      <th>Emp_Collaborative_2</th>\n",
              "      <th>Emp_Collaborative_3</th>\n",
              "      <th>Emp_Collaborative_4</th>\n",
              "      <th>Emp_Collaborative_5</th>\n",
              "      <th>Sensor_StepCount</th>\n",
              "      <th>Sensor_Heartbeat(Average/Min)</th>\n",
              "      <th>Sensor_Proximity(1-highest/10-lowest)</th>\n",
              "    </tr>\n",
              "  </thead>\n",
              "  <tbody>\n",
              "    <tr>\n",
              "      <th>count</th>\n",
              "      <td>14999.000000</td>\n",
              "      <td>14999.000000</td>\n",
              "      <td>14999.000000</td>\n",
              "      <td>14999.000000</td>\n",
              "      <td>14999.000000</td>\n",
              "      <td>14999.000000</td>\n",
              "      <td>14999.000000</td>\n",
              "      <td>14999.000000</td>\n",
              "      <td>14999.000000</td>\n",
              "      <td>14999.000000</td>\n",
              "      <td>14999.000000</td>\n",
              "      <td>14999.000000</td>\n",
              "      <td>14999.000000</td>\n",
              "      <td>14999.000000</td>\n",
              "      <td>14999.000000</td>\n",
              "      <td>14999.000000</td>\n",
              "      <td>14999.000000</td>\n",
              "      <td>14999.000000</td>\n",
              "      <td>14999.000000</td>\n",
              "      <td>14999.000000</td>\n",
              "      <td>14999.000000</td>\n",
              "      <td>14999.000000</td>\n",
              "      <td>14999.000000</td>\n",
              "      <td>14999.000000</td>\n",
              "      <td>14999.000000</td>\n",
              "      <td>14999.000000</td>\n",
              "      <td>14999.000000</td>\n",
              "      <td>14999.000000</td>\n",
              "      <td>14999.000000</td>\n",
              "      <td>14999.000000</td>\n",
              "      <td>14999.000000</td>\n",
              "      <td>14999.000000</td>\n",
              "      <td>14999.000000</td>\n",
              "      <td>14999.000000</td>\n",
              "    </tr>\n",
              "    <tr>\n",
              "      <th>mean</th>\n",
              "      <td>0.499833</td>\n",
              "      <td>0.617321</td>\n",
              "      <td>2.839723</td>\n",
              "      <td>4.367691</td>\n",
              "      <td>3.973598</td>\n",
              "      <td>0.716102</td>\n",
              "      <td>3.803054</td>\n",
              "      <td>201.050337</td>\n",
              "      <td>3.498233</td>\n",
              "      <td>0.144610</td>\n",
              "      <td>0.238083</td>\n",
              "      <td>0.021268</td>\n",
              "      <td>18.553904</td>\n",
              "      <td>3.001867</td>\n",
              "      <td>3.014468</td>\n",
              "      <td>3.005800</td>\n",
              "      <td>3.002867</td>\n",
              "      <td>2.141343</td>\n",
              "      <td>2.116274</td>\n",
              "      <td>1.998400</td>\n",
              "      <td>1.990066</td>\n",
              "      <td>2.156010</td>\n",
              "      <td>2.987199</td>\n",
              "      <td>2.144010</td>\n",
              "      <td>2.999067</td>\n",
              "      <td>2.987066</td>\n",
              "      <td>2.979532</td>\n",
              "      <td>1.676245</td>\n",
              "      <td>2.998533</td>\n",
              "      <td>3.005200</td>\n",
              "      <td>3.016934</td>\n",
              "      <td>3406.693246</td>\n",
              "      <td>77.967198</td>\n",
              "      <td>6.399360</td>\n",
              "    </tr>\n",
              "    <tr>\n",
              "      <th>std</th>\n",
              "      <td>0.500017</td>\n",
              "      <td>0.193841</td>\n",
              "      <td>0.776054</td>\n",
              "      <td>0.929979</td>\n",
              "      <td>1.367462</td>\n",
              "      <td>0.171169</td>\n",
              "      <td>1.232592</td>\n",
              "      <td>49.943099</td>\n",
              "      <td>1.460136</td>\n",
              "      <td>0.351719</td>\n",
              "      <td>0.425924</td>\n",
              "      <td>0.144281</td>\n",
              "      <td>18.987335</td>\n",
              "      <td>1.413788</td>\n",
              "      <td>1.417319</td>\n",
              "      <td>1.418791</td>\n",
              "      <td>1.413008</td>\n",
              "      <td>1.023277</td>\n",
              "      <td>1.010454</td>\n",
              "      <td>0.865389</td>\n",
              "      <td>0.856232</td>\n",
              "      <td>1.032378</td>\n",
              "      <td>1.416793</td>\n",
              "      <td>1.030439</td>\n",
              "      <td>1.406128</td>\n",
              "      <td>1.412314</td>\n",
              "      <td>1.412579</td>\n",
              "      <td>0.865230</td>\n",
              "      <td>1.410058</td>\n",
              "      <td>1.410191</td>\n",
              "      <td>1.412225</td>\n",
              "      <td>1755.742272</td>\n",
              "      <td>7.252848</td>\n",
              "      <td>2.588091</td>\n",
              "    </tr>\n",
              "    <tr>\n",
              "      <th>min</th>\n",
              "      <td>0.000000</td>\n",
              "      <td>0.400000</td>\n",
              "      <td>2.000000</td>\n",
              "      <td>3.000000</td>\n",
              "      <td>2.000000</td>\n",
              "      <td>0.360000</td>\n",
              "      <td>2.000000</td>\n",
              "      <td>96.000000</td>\n",
              "      <td>2.000000</td>\n",
              "      <td>0.000000</td>\n",
              "      <td>0.000000</td>\n",
              "      <td>0.000000</td>\n",
              "      <td>1.000000</td>\n",
              "      <td>1.000000</td>\n",
              "      <td>1.000000</td>\n",
              "      <td>1.000000</td>\n",
              "      <td>1.000000</td>\n",
              "      <td>1.000000</td>\n",
              "      <td>1.000000</td>\n",
              "      <td>1.000000</td>\n",
              "      <td>1.000000</td>\n",
              "      <td>1.000000</td>\n",
              "      <td>1.000000</td>\n",
              "      <td>1.000000</td>\n",
              "      <td>1.000000</td>\n",
              "      <td>1.000000</td>\n",
              "      <td>1.000000</td>\n",
              "      <td>1.000000</td>\n",
              "      <td>1.000000</td>\n",
              "      <td>1.000000</td>\n",
              "      <td>1.000000</td>\n",
              "      <td>1000.000000</td>\n",
              "      <td>60.000000</td>\n",
              "      <td>1.000000</td>\n",
              "    </tr>\n",
              "    <tr>\n",
              "      <th>25%</th>\n",
              "      <td>0.000000</td>\n",
              "      <td>0.400000</td>\n",
              "      <td>2.000000</td>\n",
              "      <td>3.000000</td>\n",
              "      <td>2.000000</td>\n",
              "      <td>0.560000</td>\n",
              "      <td>3.000000</td>\n",
              "      <td>156.000000</td>\n",
              "      <td>3.000000</td>\n",
              "      <td>0.000000</td>\n",
              "      <td>0.000000</td>\n",
              "      <td>0.000000</td>\n",
              "      <td>5.000000</td>\n",
              "      <td>2.000000</td>\n",
              "      <td>2.000000</td>\n",
              "      <td>2.000000</td>\n",
              "      <td>2.000000</td>\n",
              "      <td>1.000000</td>\n",
              "      <td>1.000000</td>\n",
              "      <td>1.000000</td>\n",
              "      <td>1.000000</td>\n",
              "      <td>1.000000</td>\n",
              "      <td>2.000000</td>\n",
              "      <td>1.000000</td>\n",
              "      <td>2.000000</td>\n",
              "      <td>2.000000</td>\n",
              "      <td>2.000000</td>\n",
              "      <td>1.000000</td>\n",
              "      <td>2.000000</td>\n",
              "      <td>2.000000</td>\n",
              "      <td>2.000000</td>\n",
              "      <td>1704.500000</td>\n",
              "      <td>75.000000</td>\n",
              "      <td>5.000000</td>\n",
              "    </tr>\n",
              "    <tr>\n",
              "      <th>50%</th>\n",
              "      <td>0.000000</td>\n",
              "      <td>0.800000</td>\n",
              "      <td>3.000000</td>\n",
              "      <td>5.000000</td>\n",
              "      <td>5.000000</td>\n",
              "      <td>0.720000</td>\n",
              "      <td>4.000000</td>\n",
              "      <td>200.000000</td>\n",
              "      <td>3.000000</td>\n",
              "      <td>0.000000</td>\n",
              "      <td>0.000000</td>\n",
              "      <td>0.000000</td>\n",
              "      <td>9.000000</td>\n",
              "      <td>3.000000</td>\n",
              "      <td>3.000000</td>\n",
              "      <td>3.000000</td>\n",
              "      <td>3.000000</td>\n",
              "      <td>2.000000</td>\n",
              "      <td>2.000000</td>\n",
              "      <td>2.000000</td>\n",
              "      <td>2.000000</td>\n",
              "      <td>2.000000</td>\n",
              "      <td>3.000000</td>\n",
              "      <td>2.000000</td>\n",
              "      <td>3.000000</td>\n",
              "      <td>3.000000</td>\n",
              "      <td>3.000000</td>\n",
              "      <td>2.000000</td>\n",
              "      <td>3.000000</td>\n",
              "      <td>3.000000</td>\n",
              "      <td>3.000000</td>\n",
              "      <td>3376.000000</td>\n",
              "      <td>78.000000</td>\n",
              "      <td>7.000000</td>\n",
              "    </tr>\n",
              "    <tr>\n",
              "      <th>75%</th>\n",
              "      <td>1.000000</td>\n",
              "      <td>0.800000</td>\n",
              "      <td>3.000000</td>\n",
              "      <td>5.000000</td>\n",
              "      <td>5.000000</td>\n",
              "      <td>0.870000</td>\n",
              "      <td>5.000000</td>\n",
              "      <td>245.000000</td>\n",
              "      <td>4.000000</td>\n",
              "      <td>0.000000</td>\n",
              "      <td>0.000000</td>\n",
              "      <td>0.000000</td>\n",
              "      <td>31.000000</td>\n",
              "      <td>4.000000</td>\n",
              "      <td>4.000000</td>\n",
              "      <td>4.000000</td>\n",
              "      <td>4.000000</td>\n",
              "      <td>3.000000</td>\n",
              "      <td>3.000000</td>\n",
              "      <td>2.000000</td>\n",
              "      <td>2.000000</td>\n",
              "      <td>3.000000</td>\n",
              "      <td>4.000000</td>\n",
              "      <td>3.000000</td>\n",
              "      <td>4.000000</td>\n",
              "      <td>4.000000</td>\n",
              "      <td>4.000000</td>\n",
              "      <td>2.000000</td>\n",
              "      <td>4.000000</td>\n",
              "      <td>4.000000</td>\n",
              "      <td>4.000000</td>\n",
              "      <td>4893.000000</td>\n",
              "      <td>85.000000</td>\n",
              "      <td>8.000000</td>\n",
              "    </tr>\n",
              "    <tr>\n",
              "      <th>max</th>\n",
              "      <td>1.000000</td>\n",
              "      <td>1.000000</td>\n",
              "      <td>5.000000</td>\n",
              "      <td>5.000000</td>\n",
              "      <td>5.000000</td>\n",
              "      <td>1.000000</td>\n",
              "      <td>7.000000</td>\n",
              "      <td>310.000000</td>\n",
              "      <td>10.000000</td>\n",
              "      <td>1.000000</td>\n",
              "      <td>1.000000</td>\n",
              "      <td>1.000000</td>\n",
              "      <td>65.000000</td>\n",
              "      <td>5.000000</td>\n",
              "      <td>5.000000</td>\n",
              "      <td>5.000000</td>\n",
              "      <td>5.000000</td>\n",
              "      <td>5.000000</td>\n",
              "      <td>5.000000</td>\n",
              "      <td>5.000000</td>\n",
              "      <td>5.000000</td>\n",
              "      <td>5.000000</td>\n",
              "      <td>5.000000</td>\n",
              "      <td>5.000000</td>\n",
              "      <td>5.000000</td>\n",
              "      <td>5.000000</td>\n",
              "      <td>5.000000</td>\n",
              "      <td>5.000000</td>\n",
              "      <td>5.000000</td>\n",
              "      <td>5.000000</td>\n",
              "      <td>5.000000</td>\n",
              "      <td>8500.000000</td>\n",
              "      <td>90.000000</td>\n",
              "      <td>10.000000</td>\n",
              "    </tr>\n",
              "  </tbody>\n",
              "</table>\n",
              "</div>"
            ],
            "text/plain": [
              "       Will_Relocate  ...  Sensor_Proximity(1-highest/10-lowest)\n",
              "count   14999.000000  ...                           14999.000000\n",
              "mean        0.499833  ...                               6.399360\n",
              "std         0.500017  ...                               2.588091\n",
              "min         0.000000  ...                               1.000000\n",
              "25%         0.000000  ...                               5.000000\n",
              "50%         0.000000  ...                               7.000000\n",
              "75%         1.000000  ...                               8.000000\n",
              "max         1.000000  ...                              10.000000\n",
              "\n",
              "[8 rows x 34 columns]"
            ]
          },
          "metadata": {
            "tags": []
          },
          "execution_count": 5
        }
      ]
    },
    {
      "cell_type": "code",
      "metadata": {
        "id": "uqZ-4Gsp7_ZY",
        "colab": {
          "base_uri": "https://localhost:8080/"
        },
        "outputId": "7c1140b6-7e0c-4598-a406-bac1d48546f3"
      },
      "source": [
        "dados.info()"
      ],
      "execution_count": 6,
      "outputs": [
        {
          "output_type": "stream",
          "text": [
            "<class 'pandas.core.frame.DataFrame'>\n",
            "RangeIndex: 14999 entries, 0 to 14998\n",
            "Data columns (total 39 columns):\n",
            " #   Column                                 Non-Null Count  Dtype  \n",
            "---  ------                                 --------------  -----  \n",
            " 0   Department                             14999 non-null  object \n",
            " 1   GEO                                    14999 non-null  object \n",
            " 2   Role                                   14999 non-null  object \n",
            " 3   Will_Relocate                          14999 non-null  int64  \n",
            " 4   Percent_Remote                         14999 non-null  float64\n",
            " 5   EMP_Sat_Remote_1                       14999 non-null  int64  \n",
            " 6   EMP_Sat_Remote_2                       14999 non-null  int64  \n",
            " 7   EMP_Sat_Remote_5                       14999 non-null  int64  \n",
            " 8   last_evaluation                        14999 non-null  float64\n",
            " 9   number_project                         14999 non-null  int64  \n",
            " 10  average_montly_hours                   14999 non-null  int64  \n",
            " 11  time_spend_company                     14999 non-null  int64  \n",
            " 12  Work_accident                          14999 non-null  int64  \n",
            " 13  left_Company                           14999 non-null  int64  \n",
            " 14  promotion_last_5years                  14999 non-null  int64  \n",
            " 15  salary                                 14999 non-null  object \n",
            " 16  Gender                                 14999 non-null  object \n",
            " 17  LinkedIn_Hits                          14999 non-null  int64  \n",
            " 18  Emp_Work_Status2                       14999 non-null  int64  \n",
            " 19  Emp_Work_Status_3                      14999 non-null  int64  \n",
            " 20  Emp_Work_Status_4                      14999 non-null  int64  \n",
            " 21  Emp_Work_Status_5                      14999 non-null  int64  \n",
            " 22  Emp_Identity                           14999 non-null  int64  \n",
            " 23  Emp_Role                               14999 non-null  int64  \n",
            " 24  Emp_Position                           14999 non-null  int64  \n",
            " 25  Emp_Title                              14999 non-null  int64  \n",
            " 26  Emp_Competitive_1                      14999 non-null  int64  \n",
            " 27  Emp_Competitive_2                      14999 non-null  int64  \n",
            " 28  Emp_Competitive_3                      14999 non-null  int64  \n",
            " 29  Emp_Competitive_4                      14999 non-null  int64  \n",
            " 30  Emp_Competitive_5                      14999 non-null  int64  \n",
            " 31  Emp_Collaborative_1                    14999 non-null  int64  \n",
            " 32  Emp_Collaborative_2                    14999 non-null  int64  \n",
            " 33  Emp_Collaborative_3                    14999 non-null  int64  \n",
            " 34  Emp_Collaborative_4                    14999 non-null  int64  \n",
            " 35  Emp_Collaborative_5                    14999 non-null  int64  \n",
            " 36  Sensor_StepCount                       14999 non-null  int64  \n",
            " 37  Sensor_Heartbeat(Average/Min)          14999 non-null  int64  \n",
            " 38  Sensor_Proximity(1-highest/10-lowest)  14999 non-null  int64  \n",
            "dtypes: float64(2), int64(32), object(5)\n",
            "memory usage: 4.5+ MB\n"
          ],
          "name": "stdout"
        }
      ]
    },
    {
      "cell_type": "markdown",
      "metadata": {
        "id": "CDN05bWf8hVh"
      },
      "source": [
        "Podemos notar acima que há 14999 registros e 62 colunas. Também há várias atributos com valores faltantes que serão analisados posteriormente."
      ]
    },
    {
      "cell_type": "markdown",
      "metadata": {
        "id": "9Q6QNUpMMv5D"
      },
      "source": [
        "# Exercícios"
      ]
    },
    {
      "cell_type": "markdown",
      "metadata": {
        "id": "_w31JoW1K7WO"
      },
      "source": [
        "Exercício 1.1\n",
        "\n",
        "a. unidade de pesquisa: Se o empregado continua ou não na empresa\n",
        "\n",
        "b. população: Funcionários de uma empresa\n",
        "\n",
        "c. instrumento de coleta de dados: Sistema de cadastro da empresa\n",
        "\n",
        "d. unidade respondente: Empresas na área de Recursos Humanos\n",
        "\n",
        "e. possível sistema de referência: \n",
        "\n",
        "f. unidade amostral mais provável: Apenas funcionários com salário \"baixo\"\n",
        "\n",
        "g. unidades amostrais alternativas: Funcionários do departamento de Finanças e  os que não foram promovidos nos últimos 5 anos"
      ]
    },
    {
      "cell_type": "markdown",
      "metadata": {
        "id": "apgu3wVGOcav"
      },
      "source": [
        "Exercício 1.5 \n",
        "\n",
        "a. Árvores em uma floresta: Nesse caso, iria fazer a amostra aleatória sistemática pois ela é de rápida e fácil execução e dessa maneira poderíamos selecionar as diversas árvores e separa-las por características específicas e depois de ter feito isso, e depois escolher um número igual de árvores para cada grupo. Sendo assim, tentando ao máximo ter uma amostra que represente a população. Poderíamos fazer um estudo que prevê se uma árvore será desmatada ou não, baseado em suas características, tempo de vida e localidade em que se encontra.\n",
        "\n",
        "b. Crianças abaixo de 5 anos e que tiveram sarampo:\n",
        "Como a população em questão já é bem ninchada (específica), a amostragem aleatória simples é o mais indicado pela sua facilidade de aplicação. A variável a ser estudada poderia ser as sequelas que cada criança teve e a gravidade que a doença causou, para isso, iriamos ter que saber quanto tempo ele esteve no hospital, quanto tempo esteve com a doença, e características físicas e mentais de cada criança\n",
        "\n",
        "c. Operários em indústrias têxteis: Amostragem estratificada é o melhor tipo de forma de obter uma amostra para esta população, pois separamos a população em grupos e subgrupos e após isso, podemos usar amostragem aleatória simples para cada grupo especificado. Através de entrevistas, poderíamos estudar a satisfação dos funcionários em relação ao trabalho e concluir cada avaliação dos empregados entre três classes (bom, médio ou ruim). Para obter essas informações, os questionários teriam informações pessoais de cada operário (idade, raça, gênero) e informações relacionadas ao trabalho como quanto tempo trabalha nessa indústria, se tem parentes trabalhando no mesmo setor e etc.\n",
        "\n"
      ]
    },
    {
      "cell_type": "markdown",
      "metadata": {
        "id": "AsSNRudcDF-Y"
      },
      "source": [
        "# Amostragem Simples"
      ]
    },
    {
      "cell_type": "markdown",
      "metadata": {
        "id": "jCfCT0GWDIdi"
      },
      "source": [
        "Simplesmente selecionar alguns valores do banco de dados de maneira aleatória. Nesse caso irei selecionar 40% dos meus registros."
      ]
    },
    {
      "cell_type": "code",
      "metadata": {
        "id": "pB4o5kCeDVcj",
        "colab": {
          "base_uri": "https://localhost:8080/",
          "height": 292
        },
        "outputId": "0ea22d25-6bff-4020-d067-06de573fe36d"
      },
      "source": [
        "amostra1 = dados.sample(frac=.4)\n",
        "amostra1.head()"
      ],
      "execution_count": 7,
      "outputs": [
        {
          "output_type": "execute_result",
          "data": {
            "text/html": [
              "<div>\n",
              "<style scoped>\n",
              "    .dataframe tbody tr th:only-of-type {\n",
              "        vertical-align: middle;\n",
              "    }\n",
              "\n",
              "    .dataframe tbody tr th {\n",
              "        vertical-align: top;\n",
              "    }\n",
              "\n",
              "    .dataframe thead th {\n",
              "        text-align: right;\n",
              "    }\n",
              "</style>\n",
              "<table border=\"1\" class=\"dataframe\">\n",
              "  <thead>\n",
              "    <tr style=\"text-align: right;\">\n",
              "      <th></th>\n",
              "      <th>Department</th>\n",
              "      <th>GEO</th>\n",
              "      <th>Role</th>\n",
              "      <th>Will_Relocate</th>\n",
              "      <th>Percent_Remote</th>\n",
              "      <th>EMP_Sat_Remote_1</th>\n",
              "      <th>EMP_Sat_Remote_2</th>\n",
              "      <th>EMP_Sat_Remote_5</th>\n",
              "      <th>last_evaluation</th>\n",
              "      <th>number_project</th>\n",
              "      <th>average_montly_hours</th>\n",
              "      <th>time_spend_company</th>\n",
              "      <th>Work_accident</th>\n",
              "      <th>left_Company</th>\n",
              "      <th>promotion_last_5years</th>\n",
              "      <th>salary</th>\n",
              "      <th>Gender</th>\n",
              "      <th>LinkedIn_Hits</th>\n",
              "      <th>Emp_Work_Status2</th>\n",
              "      <th>Emp_Work_Status_3</th>\n",
              "      <th>Emp_Work_Status_4</th>\n",
              "      <th>Emp_Work_Status_5</th>\n",
              "      <th>Emp_Identity</th>\n",
              "      <th>Emp_Role</th>\n",
              "      <th>Emp_Position</th>\n",
              "      <th>Emp_Title</th>\n",
              "      <th>Emp_Competitive_1</th>\n",
              "      <th>Emp_Competitive_2</th>\n",
              "      <th>Emp_Competitive_3</th>\n",
              "      <th>Emp_Competitive_4</th>\n",
              "      <th>Emp_Competitive_5</th>\n",
              "      <th>Emp_Collaborative_1</th>\n",
              "      <th>Emp_Collaborative_2</th>\n",
              "      <th>Emp_Collaborative_3</th>\n",
              "      <th>Emp_Collaborative_4</th>\n",
              "      <th>Emp_Collaborative_5</th>\n",
              "      <th>Sensor_StepCount</th>\n",
              "      <th>Sensor_Heartbeat(Average/Min)</th>\n",
              "      <th>Sensor_Proximity(1-highest/10-lowest)</th>\n",
              "    </tr>\n",
              "  </thead>\n",
              "  <tbody>\n",
              "    <tr>\n",
              "      <th>12670</th>\n",
              "      <td>IT</td>\n",
              "      <td>China</td>\n",
              "      <td>Level 2-4</td>\n",
              "      <td>1</td>\n",
              "      <td>0.8</td>\n",
              "      <td>3</td>\n",
              "      <td>5</td>\n",
              "      <td>5</td>\n",
              "      <td>0.92</td>\n",
              "      <td>3</td>\n",
              "      <td>159</td>\n",
              "      <td>3</td>\n",
              "      <td>0</td>\n",
              "      <td>0</td>\n",
              "      <td>0</td>\n",
              "      <td>low</td>\n",
              "      <td>M</td>\n",
              "      <td>10</td>\n",
              "      <td>1</td>\n",
              "      <td>5</td>\n",
              "      <td>1</td>\n",
              "      <td>1</td>\n",
              "      <td>4</td>\n",
              "      <td>4</td>\n",
              "      <td>2</td>\n",
              "      <td>3</td>\n",
              "      <td>2</td>\n",
              "      <td>2</td>\n",
              "      <td>3</td>\n",
              "      <td>1</td>\n",
              "      <td>4</td>\n",
              "      <td>1</td>\n",
              "      <td>4</td>\n",
              "      <td>3</td>\n",
              "      <td>3</td>\n",
              "      <td>1</td>\n",
              "      <td>4784</td>\n",
              "      <td>80</td>\n",
              "      <td>6</td>\n",
              "    </tr>\n",
              "    <tr>\n",
              "      <th>666</th>\n",
              "      <td>Operations</td>\n",
              "      <td>France</td>\n",
              "      <td>Level 1</td>\n",
              "      <td>0</td>\n",
              "      <td>0.4</td>\n",
              "      <td>2</td>\n",
              "      <td>3</td>\n",
              "      <td>2</td>\n",
              "      <td>0.46</td>\n",
              "      <td>3</td>\n",
              "      <td>176</td>\n",
              "      <td>3</td>\n",
              "      <td>0</td>\n",
              "      <td>0</td>\n",
              "      <td>0</td>\n",
              "      <td>low</td>\n",
              "      <td>F</td>\n",
              "      <td>6</td>\n",
              "      <td>1</td>\n",
              "      <td>3</td>\n",
              "      <td>4</td>\n",
              "      <td>5</td>\n",
              "      <td>2</td>\n",
              "      <td>1</td>\n",
              "      <td>1</td>\n",
              "      <td>2</td>\n",
              "      <td>1</td>\n",
              "      <td>1</td>\n",
              "      <td>1</td>\n",
              "      <td>5</td>\n",
              "      <td>4</td>\n",
              "      <td>1</td>\n",
              "      <td>2</td>\n",
              "      <td>1</td>\n",
              "      <td>4</td>\n",
              "      <td>5</td>\n",
              "      <td>1897</td>\n",
              "      <td>67</td>\n",
              "      <td>10</td>\n",
              "    </tr>\n",
              "    <tr>\n",
              "      <th>904</th>\n",
              "      <td>IT</td>\n",
              "      <td>France</td>\n",
              "      <td>Level 2-4</td>\n",
              "      <td>0</td>\n",
              "      <td>0.4</td>\n",
              "      <td>2</td>\n",
              "      <td>3</td>\n",
              "      <td>2</td>\n",
              "      <td>0.47</td>\n",
              "      <td>2</td>\n",
              "      <td>135</td>\n",
              "      <td>3</td>\n",
              "      <td>0</td>\n",
              "      <td>1</td>\n",
              "      <td>0</td>\n",
              "      <td>low</td>\n",
              "      <td>F</td>\n",
              "      <td>34</td>\n",
              "      <td>1</td>\n",
              "      <td>1</td>\n",
              "      <td>1</td>\n",
              "      <td>3</td>\n",
              "      <td>2</td>\n",
              "      <td>2</td>\n",
              "      <td>1</td>\n",
              "      <td>2</td>\n",
              "      <td>1</td>\n",
              "      <td>3</td>\n",
              "      <td>2</td>\n",
              "      <td>2</td>\n",
              "      <td>5</td>\n",
              "      <td>3</td>\n",
              "      <td>1</td>\n",
              "      <td>1</td>\n",
              "      <td>2</td>\n",
              "      <td>3</td>\n",
              "      <td>1311</td>\n",
              "      <td>63</td>\n",
              "      <td>9</td>\n",
              "    </tr>\n",
              "    <tr>\n",
              "      <th>13726</th>\n",
              "      <td>IT</td>\n",
              "      <td>Australia</td>\n",
              "      <td>Manager</td>\n",
              "      <td>1</td>\n",
              "      <td>0.8</td>\n",
              "      <td>3</td>\n",
              "      <td>5</td>\n",
              "      <td>5</td>\n",
              "      <td>0.96</td>\n",
              "      <td>6</td>\n",
              "      <td>171</td>\n",
              "      <td>5</td>\n",
              "      <td>1</td>\n",
              "      <td>0</td>\n",
              "      <td>0</td>\n",
              "      <td>medium</td>\n",
              "      <td>M</td>\n",
              "      <td>9</td>\n",
              "      <td>4</td>\n",
              "      <td>3</td>\n",
              "      <td>5</td>\n",
              "      <td>2</td>\n",
              "      <td>3</td>\n",
              "      <td>3</td>\n",
              "      <td>4</td>\n",
              "      <td>3</td>\n",
              "      <td>2</td>\n",
              "      <td>3</td>\n",
              "      <td>3</td>\n",
              "      <td>4</td>\n",
              "      <td>5</td>\n",
              "      <td>1</td>\n",
              "      <td>2</td>\n",
              "      <td>5</td>\n",
              "      <td>1</td>\n",
              "      <td>4</td>\n",
              "      <td>4376</td>\n",
              "      <td>71</td>\n",
              "      <td>7</td>\n",
              "    </tr>\n",
              "    <tr>\n",
              "      <th>5337</th>\n",
              "      <td>Human Resources</td>\n",
              "      <td>Turkey</td>\n",
              "      <td>Level 1</td>\n",
              "      <td>0</td>\n",
              "      <td>0.4</td>\n",
              "      <td>3</td>\n",
              "      <td>5</td>\n",
              "      <td>5</td>\n",
              "      <td>0.62</td>\n",
              "      <td>3</td>\n",
              "      <td>165</td>\n",
              "      <td>4</td>\n",
              "      <td>0</td>\n",
              "      <td>0</td>\n",
              "      <td>0</td>\n",
              "      <td>medium</td>\n",
              "      <td>F</td>\n",
              "      <td>7</td>\n",
              "      <td>4</td>\n",
              "      <td>2</td>\n",
              "      <td>1</td>\n",
              "      <td>3</td>\n",
              "      <td>1</td>\n",
              "      <td>1</td>\n",
              "      <td>2</td>\n",
              "      <td>2</td>\n",
              "      <td>1</td>\n",
              "      <td>3</td>\n",
              "      <td>2</td>\n",
              "      <td>5</td>\n",
              "      <td>5</td>\n",
              "      <td>1</td>\n",
              "      <td>1</td>\n",
              "      <td>2</td>\n",
              "      <td>3</td>\n",
              "      <td>2</td>\n",
              "      <td>1627</td>\n",
              "      <td>75</td>\n",
              "      <td>9</td>\n",
              "    </tr>\n",
              "  </tbody>\n",
              "</table>\n",
              "</div>"
            ],
            "text/plain": [
              "            Department  ... Sensor_Proximity(1-highest/10-lowest)\n",
              "12670               IT  ...                                     6\n",
              "666         Operations  ...                                    10\n",
              "904                 IT  ...                                     9\n",
              "13726               IT  ...                                     7\n",
              "5337   Human Resources  ...                                     9\n",
              "\n",
              "[5 rows x 39 columns]"
            ]
          },
          "metadata": {
            "tags": []
          },
          "execution_count": 7
        }
      ]
    },
    {
      "cell_type": "code",
      "metadata": {
        "id": "OIc6uD0DDe0t",
        "colab": {
          "base_uri": "https://localhost:8080/"
        },
        "outputId": "e27e50ac-0fc9-4e86-deb1-a12a8985d857"
      },
      "source": [
        "amostra1.info()"
      ],
      "execution_count": 8,
      "outputs": [
        {
          "output_type": "stream",
          "text": [
            "<class 'pandas.core.frame.DataFrame'>\n",
            "Int64Index: 6000 entries, 12670 to 10853\n",
            "Data columns (total 39 columns):\n",
            " #   Column                                 Non-Null Count  Dtype  \n",
            "---  ------                                 --------------  -----  \n",
            " 0   Department                             6000 non-null   object \n",
            " 1   GEO                                    6000 non-null   object \n",
            " 2   Role                                   6000 non-null   object \n",
            " 3   Will_Relocate                          6000 non-null   int64  \n",
            " 4   Percent_Remote                         6000 non-null   float64\n",
            " 5   EMP_Sat_Remote_1                       6000 non-null   int64  \n",
            " 6   EMP_Sat_Remote_2                       6000 non-null   int64  \n",
            " 7   EMP_Sat_Remote_5                       6000 non-null   int64  \n",
            " 8   last_evaluation                        6000 non-null   float64\n",
            " 9   number_project                         6000 non-null   int64  \n",
            " 10  average_montly_hours                   6000 non-null   int64  \n",
            " 11  time_spend_company                     6000 non-null   int64  \n",
            " 12  Work_accident                          6000 non-null   int64  \n",
            " 13  left_Company                           6000 non-null   int64  \n",
            " 14  promotion_last_5years                  6000 non-null   int64  \n",
            " 15  salary                                 6000 non-null   object \n",
            " 16  Gender                                 6000 non-null   object \n",
            " 17  LinkedIn_Hits                          6000 non-null   int64  \n",
            " 18  Emp_Work_Status2                       6000 non-null   int64  \n",
            " 19  Emp_Work_Status_3                      6000 non-null   int64  \n",
            " 20  Emp_Work_Status_4                      6000 non-null   int64  \n",
            " 21  Emp_Work_Status_5                      6000 non-null   int64  \n",
            " 22  Emp_Identity                           6000 non-null   int64  \n",
            " 23  Emp_Role                               6000 non-null   int64  \n",
            " 24  Emp_Position                           6000 non-null   int64  \n",
            " 25  Emp_Title                              6000 non-null   int64  \n",
            " 26  Emp_Competitive_1                      6000 non-null   int64  \n",
            " 27  Emp_Competitive_2                      6000 non-null   int64  \n",
            " 28  Emp_Competitive_3                      6000 non-null   int64  \n",
            " 29  Emp_Competitive_4                      6000 non-null   int64  \n",
            " 30  Emp_Competitive_5                      6000 non-null   int64  \n",
            " 31  Emp_Collaborative_1                    6000 non-null   int64  \n",
            " 32  Emp_Collaborative_2                    6000 non-null   int64  \n",
            " 33  Emp_Collaborative_3                    6000 non-null   int64  \n",
            " 34  Emp_Collaborative_4                    6000 non-null   int64  \n",
            " 35  Emp_Collaborative_5                    6000 non-null   int64  \n",
            " 36  Sensor_StepCount                       6000 non-null   int64  \n",
            " 37  Sensor_Heartbeat(Average/Min)          6000 non-null   int64  \n",
            " 38  Sensor_Proximity(1-highest/10-lowest)  6000 non-null   int64  \n",
            "dtypes: float64(2), int64(32), object(5)\n",
            "memory usage: 1.8+ MB\n"
          ],
          "name": "stdout"
        }
      ]
    },
    {
      "cell_type": "code",
      "metadata": {
        "colab": {
          "base_uri": "https://localhost:8080/"
        },
        "id": "x8NUb5mSbZ1Z",
        "outputId": "0626450e-b6d3-4012-9159-b21d578b5d2a"
      },
      "source": [
        "print('a média é: {:.2f}'.format(amostra1['Sensor_Heartbeat(Average/Min)'].mean()))\n",
        "print('A variância é: {:.2f}'.format(amostra1['Sensor_Heartbeat(Average/Min)'].std()))\n"
      ],
      "execution_count": 83,
      "outputs": [
        {
          "output_type": "stream",
          "text": [
            "a média é: 77.91\n",
            "A variância é: 7.18\n"
          ],
          "name": "stdout"
        }
      ]
    },
    {
      "cell_type": "markdown",
      "metadata": {
        "id": "JY5ejhc0Mz06"
      },
      "source": [
        "Obtendo a amostra, temos 6000 registros, selecionando 40% da população de maneira aleatória. "
      ]
    },
    {
      "cell_type": "markdown",
      "metadata": {
        "id": "7BxutT059TW7"
      },
      "source": [
        "# Amostragem Sistemática"
      ]
    },
    {
      "cell_type": "markdown",
      "metadata": {
        "id": "sep_sgbh9WEU"
      },
      "source": [
        "Os elementos da população serão colocados em uma lista e cada enésimo elemento da lista é escolhido (sistematicamente) e irá compor a amostra."
      ]
    },
    {
      "cell_type": "code",
      "metadata": {
        "id": "GpzKpo1h8fN-",
        "colab": {
          "base_uri": "https://localhost:8080/"
        },
        "outputId": "0611f9f7-d737-44c7-bf42-82471a211bf0"
      },
      "source": [
        "seed = np.random.choice(10,1) #selecionando número aleatório de 1 a 10\n",
        "seed"
      ],
      "execution_count": 53,
      "outputs": [
        {
          "output_type": "execute_result",
          "data": {
            "text/plain": [
              "array([9])"
            ]
          },
          "metadata": {
            "tags": []
          },
          "execution_count": 53
        }
      ]
    },
    {
      "cell_type": "code",
      "metadata": {
        "id": "lYdjGYjW9li6",
        "colab": {
          "base_uri": "https://localhost:8080/"
        },
        "outputId": "7e7ad969-ce41-4d34-f0bd-5f8f9269cbcb"
      },
      "source": [
        "indices = np.arange(0, len(dados), seed)\n",
        "indices"
      ],
      "execution_count": 54,
      "outputs": [
        {
          "output_type": "execute_result",
          "data": {
            "text/plain": [
              "array([    0,     9,    18, ..., 14976, 14985, 14994])"
            ]
          },
          "metadata": {
            "tags": []
          },
          "execution_count": 54
        }
      ]
    },
    {
      "cell_type": "markdown",
      "metadata": {
        "id": "m5gKWi6A951t"
      },
      "source": [
        "No primeiro parâmetro do código acima eu seleciono em qual número o array deve se iniciar, no segundo em que número ele deve parar e por último, o intervalo com que os números devem ser escolhidos.\n",
        "\n",
        "\n",
        "**Obs1**: o método 'np.arange' retorna um array (lista) de valores.\n",
        "\n",
        "**Obs2**: len(dados) retorna a quantidade total de registros do DataFrame **dados**."
      ]
    },
    {
      "cell_type": "code",
      "metadata": {
        "id": "a1DJ6R1u9mA1"
      },
      "source": [
        "amostra2 = dados.loc[indices]"
      ],
      "execution_count": 55,
      "outputs": []
    },
    {
      "cell_type": "markdown",
      "metadata": {
        "id": "Jm6MfqJC_Lop"
      },
      "source": [
        "No código acima eu localizei, dentro dos meus dados, somente os indíces que correspondem ao meu array 'indices', explicado anteriormente.\n",
        "\n",
        "**OBS**: Índice de um DataFrame é o primeiro valor do registro da esquerda para direita, que não tem nenhuma label em cima."
      ]
    },
    {
      "cell_type": "code",
      "metadata": {
        "id": "87ZgocAp91EK",
        "colab": {
          "base_uri": "https://localhost:8080/",
          "height": 292
        },
        "outputId": "d53a674b-7e8a-4539-f50c-ecdeb1148ece"
      },
      "source": [
        "amostra2.head()"
      ],
      "execution_count": 56,
      "outputs": [
        {
          "output_type": "execute_result",
          "data": {
            "text/html": [
              "<div>\n",
              "<style scoped>\n",
              "    .dataframe tbody tr th:only-of-type {\n",
              "        vertical-align: middle;\n",
              "    }\n",
              "\n",
              "    .dataframe tbody tr th {\n",
              "        vertical-align: top;\n",
              "    }\n",
              "\n",
              "    .dataframe thead th {\n",
              "        text-align: right;\n",
              "    }\n",
              "</style>\n",
              "<table border=\"1\" class=\"dataframe\">\n",
              "  <thead>\n",
              "    <tr style=\"text-align: right;\">\n",
              "      <th></th>\n",
              "      <th>Department</th>\n",
              "      <th>GEO</th>\n",
              "      <th>Role</th>\n",
              "      <th>Will_Relocate</th>\n",
              "      <th>Percent_Remote</th>\n",
              "      <th>EMP_Sat_Remote_1</th>\n",
              "      <th>EMP_Sat_Remote_2</th>\n",
              "      <th>EMP_Sat_Remote_5</th>\n",
              "      <th>last_evaluation</th>\n",
              "      <th>number_project</th>\n",
              "      <th>average_montly_hours</th>\n",
              "      <th>time_spend_company</th>\n",
              "      <th>Work_accident</th>\n",
              "      <th>left_Company</th>\n",
              "      <th>promotion_last_5years</th>\n",
              "      <th>salary</th>\n",
              "      <th>Gender</th>\n",
              "      <th>LinkedIn_Hits</th>\n",
              "      <th>Emp_Work_Status2</th>\n",
              "      <th>Emp_Work_Status_3</th>\n",
              "      <th>Emp_Work_Status_4</th>\n",
              "      <th>Emp_Work_Status_5</th>\n",
              "      <th>Emp_Identity</th>\n",
              "      <th>Emp_Role</th>\n",
              "      <th>Emp_Position</th>\n",
              "      <th>Emp_Title</th>\n",
              "      <th>Emp_Competitive_1</th>\n",
              "      <th>Emp_Competitive_2</th>\n",
              "      <th>Emp_Competitive_3</th>\n",
              "      <th>Emp_Competitive_4</th>\n",
              "      <th>Emp_Competitive_5</th>\n",
              "      <th>Emp_Collaborative_1</th>\n",
              "      <th>Emp_Collaborative_2</th>\n",
              "      <th>Emp_Collaborative_3</th>\n",
              "      <th>Emp_Collaborative_4</th>\n",
              "      <th>Emp_Collaborative_5</th>\n",
              "      <th>Sensor_StepCount</th>\n",
              "      <th>Sensor_Heartbeat(Average/Min)</th>\n",
              "      <th>Sensor_Proximity(1-highest/10-lowest)</th>\n",
              "    </tr>\n",
              "  </thead>\n",
              "  <tbody>\n",
              "    <tr>\n",
              "      <th>0</th>\n",
              "      <td>Operations</td>\n",
              "      <td>US</td>\n",
              "      <td>VP</td>\n",
              "      <td>0</td>\n",
              "      <td>0.4</td>\n",
              "      <td>2</td>\n",
              "      <td>3</td>\n",
              "      <td>2</td>\n",
              "      <td>0.36</td>\n",
              "      <td>3</td>\n",
              "      <td>168</td>\n",
              "      <td>3</td>\n",
              "      <td>1</td>\n",
              "      <td>0</td>\n",
              "      <td>0</td>\n",
              "      <td>low</td>\n",
              "      <td>M</td>\n",
              "      <td>5</td>\n",
              "      <td>4</td>\n",
              "      <td>3</td>\n",
              "      <td>1</td>\n",
              "      <td>1</td>\n",
              "      <td>1</td>\n",
              "      <td>1</td>\n",
              "      <td>2</td>\n",
              "      <td>1</td>\n",
              "      <td>2</td>\n",
              "      <td>4</td>\n",
              "      <td>2</td>\n",
              "      <td>2</td>\n",
              "      <td>2</td>\n",
              "      <td>2</td>\n",
              "      <td>2</td>\n",
              "      <td>2</td>\n",
              "      <td>1</td>\n",
              "      <td>5</td>\n",
              "      <td>1841</td>\n",
              "      <td>61</td>\n",
              "      <td>9</td>\n",
              "    </tr>\n",
              "    <tr>\n",
              "      <th>9</th>\n",
              "      <td>Human Resources</td>\n",
              "      <td>UK</td>\n",
              "      <td>Director</td>\n",
              "      <td>1</td>\n",
              "      <td>0.4</td>\n",
              "      <td>2</td>\n",
              "      <td>3</td>\n",
              "      <td>2</td>\n",
              "      <td>0.36</td>\n",
              "      <td>2</td>\n",
              "      <td>137</td>\n",
              "      <td>4</td>\n",
              "      <td>1</td>\n",
              "      <td>0</td>\n",
              "      <td>0</td>\n",
              "      <td>medium</td>\n",
              "      <td>F</td>\n",
              "      <td>4</td>\n",
              "      <td>1</td>\n",
              "      <td>2</td>\n",
              "      <td>2</td>\n",
              "      <td>4</td>\n",
              "      <td>2</td>\n",
              "      <td>1</td>\n",
              "      <td>2</td>\n",
              "      <td>1</td>\n",
              "      <td>2</td>\n",
              "      <td>4</td>\n",
              "      <td>1</td>\n",
              "      <td>3</td>\n",
              "      <td>4</td>\n",
              "      <td>4</td>\n",
              "      <td>2</td>\n",
              "      <td>3</td>\n",
              "      <td>3</td>\n",
              "      <td>4</td>\n",
              "      <td>1185</td>\n",
              "      <td>63</td>\n",
              "      <td>8</td>\n",
              "    </tr>\n",
              "    <tr>\n",
              "      <th>18</th>\n",
              "      <td>Operations</td>\n",
              "      <td>US</td>\n",
              "      <td>Senior Manager</td>\n",
              "      <td>1</td>\n",
              "      <td>0.4</td>\n",
              "      <td>2</td>\n",
              "      <td>3</td>\n",
              "      <td>2</td>\n",
              "      <td>0.36</td>\n",
              "      <td>2</td>\n",
              "      <td>192</td>\n",
              "      <td>3</td>\n",
              "      <td>0</td>\n",
              "      <td>0</td>\n",
              "      <td>0</td>\n",
              "      <td>low</td>\n",
              "      <td>M</td>\n",
              "      <td>54</td>\n",
              "      <td>2</td>\n",
              "      <td>2</td>\n",
              "      <td>4</td>\n",
              "      <td>4</td>\n",
              "      <td>2</td>\n",
              "      <td>1</td>\n",
              "      <td>2</td>\n",
              "      <td>2</td>\n",
              "      <td>2</td>\n",
              "      <td>1</td>\n",
              "      <td>2</td>\n",
              "      <td>3</td>\n",
              "      <td>3</td>\n",
              "      <td>4</td>\n",
              "      <td>2</td>\n",
              "      <td>4</td>\n",
              "      <td>2</td>\n",
              "      <td>5</td>\n",
              "      <td>2081</td>\n",
              "      <td>90</td>\n",
              "      <td>6</td>\n",
              "    </tr>\n",
              "    <tr>\n",
              "      <th>27</th>\n",
              "      <td>Human Resources</td>\n",
              "      <td>Japan</td>\n",
              "      <td>Manager</td>\n",
              "      <td>1</td>\n",
              "      <td>0.4</td>\n",
              "      <td>2</td>\n",
              "      <td>3</td>\n",
              "      <td>2</td>\n",
              "      <td>0.37</td>\n",
              "      <td>6</td>\n",
              "      <td>226</td>\n",
              "      <td>2</td>\n",
              "      <td>0</td>\n",
              "      <td>0</td>\n",
              "      <td>0</td>\n",
              "      <td>low</td>\n",
              "      <td>M</td>\n",
              "      <td>11</td>\n",
              "      <td>4</td>\n",
              "      <td>5</td>\n",
              "      <td>3</td>\n",
              "      <td>4</td>\n",
              "      <td>2</td>\n",
              "      <td>2</td>\n",
              "      <td>2</td>\n",
              "      <td>2</td>\n",
              "      <td>2</td>\n",
              "      <td>2</td>\n",
              "      <td>1</td>\n",
              "      <td>3</td>\n",
              "      <td>1</td>\n",
              "      <td>3</td>\n",
              "      <td>1</td>\n",
              "      <td>5</td>\n",
              "      <td>4</td>\n",
              "      <td>1</td>\n",
              "      <td>3375</td>\n",
              "      <td>80</td>\n",
              "      <td>8</td>\n",
              "    </tr>\n",
              "    <tr>\n",
              "      <th>36</th>\n",
              "      <td>Operations</td>\n",
              "      <td>France</td>\n",
              "      <td>Manager</td>\n",
              "      <td>0</td>\n",
              "      <td>0.4</td>\n",
              "      <td>2</td>\n",
              "      <td>3</td>\n",
              "      <td>2</td>\n",
              "      <td>0.37</td>\n",
              "      <td>2</td>\n",
              "      <td>232</td>\n",
              "      <td>3</td>\n",
              "      <td>1</td>\n",
              "      <td>0</td>\n",
              "      <td>0</td>\n",
              "      <td>low</td>\n",
              "      <td>M</td>\n",
              "      <td>48</td>\n",
              "      <td>3</td>\n",
              "      <td>5</td>\n",
              "      <td>2</td>\n",
              "      <td>1</td>\n",
              "      <td>1</td>\n",
              "      <td>2</td>\n",
              "      <td>2</td>\n",
              "      <td>2</td>\n",
              "      <td>1</td>\n",
              "      <td>5</td>\n",
              "      <td>2</td>\n",
              "      <td>2</td>\n",
              "      <td>4</td>\n",
              "      <td>3</td>\n",
              "      <td>2</td>\n",
              "      <td>1</td>\n",
              "      <td>3</td>\n",
              "      <td>3</td>\n",
              "      <td>3750</td>\n",
              "      <td>80</td>\n",
              "      <td>6</td>\n",
              "    </tr>\n",
              "  </tbody>\n",
              "</table>\n",
              "</div>"
            ],
            "text/plain": [
              "         Department  ... Sensor_Proximity(1-highest/10-lowest)\n",
              "0        Operations  ...                                     9\n",
              "9   Human Resources  ...                                     8\n",
              "18       Operations  ...                                     6\n",
              "27  Human Resources  ...                                     8\n",
              "36       Operations  ...                                     6\n",
              "\n",
              "[5 rows x 39 columns]"
            ]
          },
          "metadata": {
            "tags": []
          },
          "execution_count": 56
        }
      ]
    },
    {
      "cell_type": "code",
      "metadata": {
        "id": "j4s7NDnC-xG2",
        "colab": {
          "base_uri": "https://localhost:8080/"
        },
        "outputId": "28209f6f-eaaa-4821-fa35-8195f180f56f"
      },
      "source": [
        "amostra2.info()"
      ],
      "execution_count": 57,
      "outputs": [
        {
          "output_type": "stream",
          "text": [
            "<class 'pandas.core.frame.DataFrame'>\n",
            "Int64Index: 1667 entries, 0 to 14994\n",
            "Data columns (total 39 columns):\n",
            " #   Column                                 Non-Null Count  Dtype  \n",
            "---  ------                                 --------------  -----  \n",
            " 0   Department                             1667 non-null   object \n",
            " 1   GEO                                    1667 non-null   object \n",
            " 2   Role                                   1667 non-null   object \n",
            " 3   Will_Relocate                          1667 non-null   int64  \n",
            " 4   Percent_Remote                         1667 non-null   float64\n",
            " 5   EMP_Sat_Remote_1                       1667 non-null   int64  \n",
            " 6   EMP_Sat_Remote_2                       1667 non-null   int64  \n",
            " 7   EMP_Sat_Remote_5                       1667 non-null   int64  \n",
            " 8   last_evaluation                        1667 non-null   float64\n",
            " 9   number_project                         1667 non-null   int64  \n",
            " 10  average_montly_hours                   1667 non-null   int64  \n",
            " 11  time_spend_company                     1667 non-null   int64  \n",
            " 12  Work_accident                          1667 non-null   int64  \n",
            " 13  left_Company                           1667 non-null   int64  \n",
            " 14  promotion_last_5years                  1667 non-null   int64  \n",
            " 15  salary                                 1667 non-null   object \n",
            " 16  Gender                                 1667 non-null   object \n",
            " 17  LinkedIn_Hits                          1667 non-null   int64  \n",
            " 18  Emp_Work_Status2                       1667 non-null   int64  \n",
            " 19  Emp_Work_Status_3                      1667 non-null   int64  \n",
            " 20  Emp_Work_Status_4                      1667 non-null   int64  \n",
            " 21  Emp_Work_Status_5                      1667 non-null   int64  \n",
            " 22  Emp_Identity                           1667 non-null   int64  \n",
            " 23  Emp_Role                               1667 non-null   int64  \n",
            " 24  Emp_Position                           1667 non-null   int64  \n",
            " 25  Emp_Title                              1667 non-null   int64  \n",
            " 26  Emp_Competitive_1                      1667 non-null   int64  \n",
            " 27  Emp_Competitive_2                      1667 non-null   int64  \n",
            " 28  Emp_Competitive_3                      1667 non-null   int64  \n",
            " 29  Emp_Competitive_4                      1667 non-null   int64  \n",
            " 30  Emp_Competitive_5                      1667 non-null   int64  \n",
            " 31  Emp_Collaborative_1                    1667 non-null   int64  \n",
            " 32  Emp_Collaborative_2                    1667 non-null   int64  \n",
            " 33  Emp_Collaborative_3                    1667 non-null   int64  \n",
            " 34  Emp_Collaborative_4                    1667 non-null   int64  \n",
            " 35  Emp_Collaborative_5                    1667 non-null   int64  \n",
            " 36  Sensor_StepCount                       1667 non-null   int64  \n",
            " 37  Sensor_Heartbeat(Average/Min)          1667 non-null   int64  \n",
            " 38  Sensor_Proximity(1-highest/10-lowest)  1667 non-null   int64  \n",
            "dtypes: float64(2), int64(32), object(5)\n",
            "memory usage: 520.9+ KB\n"
          ],
          "name": "stdout"
        }
      ]
    },
    {
      "cell_type": "code",
      "metadata": {
        "colab": {
          "base_uri": "https://localhost:8080/"
        },
        "id": "jnkQ2J_oclhS",
        "outputId": "82fcfe11-9e4c-4400-8934-882fbac352ae"
      },
      "source": [
        "print('a média é: {:.2f}'.format(amostra2['Sensor_Heartbeat(Average/Min)'].mean()))\n",
        "print('A variância é: {:.2f}'.format(amostra2['Sensor_Heartbeat(Average/Min)'].std()))"
      ],
      "execution_count": 82,
      "outputs": [
        {
          "output_type": "stream",
          "text": [
            "a média é: 77.84\n",
            "A variância é: 7.25\n"
          ],
          "name": "stdout"
        }
      ]
    },
    {
      "cell_type": "markdown",
      "metadata": {
        "id": "UGw0FSAe-3su"
      },
      "source": [
        "Como podemos observar, a nossa amostra gerada varia a quantidade de registros de acordo com o número gerado aleatoriamente, selecionando assim, de maneira sistemática."
      ]
    },
    {
      "cell_type": "markdown",
      "metadata": {
        "id": "i21-agelAoXP"
      },
      "source": [
        "# Exemplo 2.1"
      ]
    },
    {
      "cell_type": "code",
      "metadata": {
        "id": "c99VhPhzKz7a",
        "colab": {
          "base_uri": "https://localhost:8080/",
          "height": 230
        },
        "outputId": "76b48fc9-da39-4de7-8e74-9a9343b4c27f"
      },
      "source": [
        "#criando nova amostra com somente 3 registros.\n",
        "nova_amostra = amostra2.sample(n=3)\n",
        "nova_amostra"
      ],
      "execution_count": 14,
      "outputs": [
        {
          "output_type": "execute_result",
          "data": {
            "text/html": [
              "<div>\n",
              "<style scoped>\n",
              "    .dataframe tbody tr th:only-of-type {\n",
              "        vertical-align: middle;\n",
              "    }\n",
              "\n",
              "    .dataframe tbody tr th {\n",
              "        vertical-align: top;\n",
              "    }\n",
              "\n",
              "    .dataframe thead th {\n",
              "        text-align: right;\n",
              "    }\n",
              "</style>\n",
              "<table border=\"1\" class=\"dataframe\">\n",
              "  <thead>\n",
              "    <tr style=\"text-align: right;\">\n",
              "      <th></th>\n",
              "      <th>Department</th>\n",
              "      <th>GEO</th>\n",
              "      <th>Role</th>\n",
              "      <th>Will_Relocate</th>\n",
              "      <th>Percent_Remote</th>\n",
              "      <th>EMP_Sat_Remote_1</th>\n",
              "      <th>EMP_Sat_Remote_2</th>\n",
              "      <th>EMP_Sat_Remote_5</th>\n",
              "      <th>last_evaluation</th>\n",
              "      <th>number_project</th>\n",
              "      <th>average_montly_hours</th>\n",
              "      <th>time_spend_company</th>\n",
              "      <th>Work_accident</th>\n",
              "      <th>left_Company</th>\n",
              "      <th>promotion_last_5years</th>\n",
              "      <th>salary</th>\n",
              "      <th>Gender</th>\n",
              "      <th>LinkedIn_Hits</th>\n",
              "      <th>Emp_Work_Status2</th>\n",
              "      <th>Emp_Work_Status_3</th>\n",
              "      <th>Emp_Work_Status_4</th>\n",
              "      <th>Emp_Work_Status_5</th>\n",
              "      <th>Emp_Identity</th>\n",
              "      <th>Emp_Role</th>\n",
              "      <th>Emp_Position</th>\n",
              "      <th>Emp_Title</th>\n",
              "      <th>Emp_Competitive_1</th>\n",
              "      <th>Emp_Competitive_2</th>\n",
              "      <th>Emp_Competitive_3</th>\n",
              "      <th>Emp_Competitive_4</th>\n",
              "      <th>Emp_Competitive_5</th>\n",
              "      <th>Emp_Collaborative_1</th>\n",
              "      <th>Emp_Collaborative_2</th>\n",
              "      <th>Emp_Collaborative_3</th>\n",
              "      <th>Emp_Collaborative_4</th>\n",
              "      <th>Emp_Collaborative_5</th>\n",
              "      <th>Sensor_StepCount</th>\n",
              "      <th>Sensor_Heartbeat(Average/Min)</th>\n",
              "      <th>Sensor_Proximity(1-highest/10-lowest)</th>\n",
              "    </tr>\n",
              "  </thead>\n",
              "  <tbody>\n",
              "    <tr>\n",
              "      <th>13395</th>\n",
              "      <td>Human Resources</td>\n",
              "      <td>France</td>\n",
              "      <td>Level 2-4</td>\n",
              "      <td>1</td>\n",
              "      <td>0.8</td>\n",
              "      <td>3</td>\n",
              "      <td>5</td>\n",
              "      <td>5</td>\n",
              "      <td>0.94</td>\n",
              "      <td>6</td>\n",
              "      <td>255</td>\n",
              "      <td>4</td>\n",
              "      <td>0</td>\n",
              "      <td>1</td>\n",
              "      <td>0</td>\n",
              "      <td>low</td>\n",
              "      <td>M</td>\n",
              "      <td>6</td>\n",
              "      <td>3</td>\n",
              "      <td>3</td>\n",
              "      <td>3</td>\n",
              "      <td>3</td>\n",
              "      <td>2</td>\n",
              "      <td>2</td>\n",
              "      <td>2</td>\n",
              "      <td>2</td>\n",
              "      <td>4</td>\n",
              "      <td>1</td>\n",
              "      <td>4</td>\n",
              "      <td>4</td>\n",
              "      <td>3</td>\n",
              "      <td>1</td>\n",
              "      <td>2</td>\n",
              "      <td>3</td>\n",
              "      <td>3</td>\n",
              "      <td>3</td>\n",
              "      <td>1654</td>\n",
              "      <td>90</td>\n",
              "      <td>7</td>\n",
              "    </tr>\n",
              "    <tr>\n",
              "      <th>9738</th>\n",
              "      <td>Operations</td>\n",
              "      <td>US</td>\n",
              "      <td>Senior Manager</td>\n",
              "      <td>0</td>\n",
              "      <td>0.8</td>\n",
              "      <td>3</td>\n",
              "      <td>5</td>\n",
              "      <td>5</td>\n",
              "      <td>0.81</td>\n",
              "      <td>3</td>\n",
              "      <td>245</td>\n",
              "      <td>2</td>\n",
              "      <td>1</td>\n",
              "      <td>0</td>\n",
              "      <td>0</td>\n",
              "      <td>low</td>\n",
              "      <td>F</td>\n",
              "      <td>4</td>\n",
              "      <td>3</td>\n",
              "      <td>2</td>\n",
              "      <td>4</td>\n",
              "      <td>2</td>\n",
              "      <td>2</td>\n",
              "      <td>4</td>\n",
              "      <td>3</td>\n",
              "      <td>2</td>\n",
              "      <td>2</td>\n",
              "      <td>3</td>\n",
              "      <td>4</td>\n",
              "      <td>3</td>\n",
              "      <td>4</td>\n",
              "      <td>2</td>\n",
              "      <td>2</td>\n",
              "      <td>5</td>\n",
              "      <td>3</td>\n",
              "      <td>4</td>\n",
              "      <td>4719</td>\n",
              "      <td>79</td>\n",
              "      <td>6</td>\n",
              "    </tr>\n",
              "    <tr>\n",
              "      <th>2625</th>\n",
              "      <td>Human Resources</td>\n",
              "      <td>China</td>\n",
              "      <td>Manager</td>\n",
              "      <td>1</td>\n",
              "      <td>0.4</td>\n",
              "      <td>2</td>\n",
              "      <td>3</td>\n",
              "      <td>2</td>\n",
              "      <td>0.53</td>\n",
              "      <td>2</td>\n",
              "      <td>157</td>\n",
              "      <td>3</td>\n",
              "      <td>0</td>\n",
              "      <td>1</td>\n",
              "      <td>0</td>\n",
              "      <td>low</td>\n",
              "      <td>M</td>\n",
              "      <td>23</td>\n",
              "      <td>5</td>\n",
              "      <td>2</td>\n",
              "      <td>1</td>\n",
              "      <td>1</td>\n",
              "      <td>1</td>\n",
              "      <td>1</td>\n",
              "      <td>1</td>\n",
              "      <td>2</td>\n",
              "      <td>1</td>\n",
              "      <td>4</td>\n",
              "      <td>2</td>\n",
              "      <td>1</td>\n",
              "      <td>2</td>\n",
              "      <td>4</td>\n",
              "      <td>1</td>\n",
              "      <td>1</td>\n",
              "      <td>2</td>\n",
              "      <td>4</td>\n",
              "      <td>1062</td>\n",
              "      <td>73</td>\n",
              "      <td>7</td>\n",
              "    </tr>\n",
              "  </tbody>\n",
              "</table>\n",
              "</div>"
            ],
            "text/plain": [
              "            Department  ... Sensor_Proximity(1-highest/10-lowest)\n",
              "13395  Human Resources  ...                                     7\n",
              "9738        Operations  ...                                     6\n",
              "2625   Human Resources  ...                                     7\n",
              "\n",
              "[3 rows x 39 columns]"
            ]
          },
          "metadata": {
            "tags": []
          },
          "execution_count": 14
        }
      ]
    },
    {
      "cell_type": "markdown",
      "metadata": {
        "id": "6OOXzYu0BMZX"
      },
      "source": [
        "Para os dados descritos na nova amostra, os seguintes parâmetros populacionais podem ser definidos:\n",
        "\n",
        "i. Departamento de cada funcionário"
      ]
    },
    {
      "cell_type": "code",
      "metadata": {
        "id": "SMvuG3ZUBWYW",
        "colab": {
          "base_uri": "https://localhost:8080/"
        },
        "outputId": "0d71f52d-9abf-442a-aa85-e94c985a4951"
      },
      "source": [
        "#Todos os departamentos dos registros obtidos na amostra\n",
        "nova_amostra['Department'].unique()"
      ],
      "execution_count": 15,
      "outputs": [
        {
          "output_type": "execute_result",
          "data": {
            "text/plain": [
              "array(['Human Resources', 'Operations'], dtype=object)"
            ]
          },
          "metadata": {
            "tags": []
          },
          "execution_count": 15
        }
      ]
    },
    {
      "cell_type": "code",
      "metadata": {
        "id": "Tqyq2G45B-BC",
        "colab": {
          "base_uri": "https://localhost:8080/"
        },
        "outputId": "6d09c26d-3415-4fcd-8941-ea45a22c70c2"
      },
      "source": [
        "print('D = {} = Y'.format(nova_amostra['Department'].unique()))"
      ],
      "execution_count": 16,
      "outputs": [
        {
          "output_type": "stream",
          "text": [
            "D = ['Human Resources' 'Operations'] = Y\n"
          ],
          "name": "stdout"
        }
      ]
    },
    {
      "cell_type": "markdown",
      "metadata": {
        "id": "5y2z8DqLDiaZ"
      },
      "source": [
        "ii. Para o vetor (FiTi)'"
      ]
    },
    {
      "cell_type": "code",
      "metadata": {
        "id": "MehtfLZSCH4A",
        "colab": {
          "base_uri": "https://localhost:8080/"
        },
        "outputId": "e63b4b2c-899d-45aa-da85-c95c50229695"
      },
      "source": [
        "# Obtendo os valores da última pontuação da avaliação desse funcionário\n",
        "nova_amostra.last_evaluation"
      ],
      "execution_count": 17,
      "outputs": [
        {
          "output_type": "execute_result",
          "data": {
            "text/plain": [
              "13395    0.94\n",
              "9738     0.81\n",
              "2625     0.53\n",
              "Name: last_evaluation, dtype: float64"
            ]
          },
          "metadata": {
            "tags": []
          },
          "execution_count": 17
        }
      ]
    },
    {
      "cell_type": "code",
      "metadata": {
        "id": "LZzv9qodF47J",
        "colab": {
          "base_uri": "https://localhost:8080/"
        },
        "outputId": "6e908350-9e90-4cf7-eda0-b1391f683170"
      },
      "source": [
        "# Obtendo os valores dos números de projetos que o funcionário trabalhou\n",
        "nova_amostra.number_project"
      ],
      "execution_count": 18,
      "outputs": [
        {
          "output_type": "execute_result",
          "data": {
            "text/plain": [
              "13395    6\n",
              "9738     3\n",
              "2625     2\n",
              "Name: number_project, dtype: int64"
            ]
          },
          "metadata": {
            "tags": []
          },
          "execution_count": 18
        }
      ]
    },
    {
      "cell_type": "markdown",
      "metadata": {
        "id": "rqHpaNflEHqn"
      },
      "source": [
        "B = <br/> \n",
        "(0.99  0.94  0.61 <br/> \n",
        "3.00  7.00  5.00)<br/> \n"
      ]
    },
    {
      "cell_type": "markdown",
      "metadata": {
        "id": "XnrVpghwGV4T"
      },
      "source": [
        "Com relação à funções paramétricas populacionais, tem-se:\n"
      ]
    },
    {
      "cell_type": "markdown",
      "metadata": {
        "id": "iGV6w0LoGpDp"
      },
      "source": [
        "1. Tempo gasto em média na empresa."
      ]
    },
    {
      "cell_type": "code",
      "metadata": {
        "id": "JaM_OR-qF8yD",
        "colab": {
          "base_uri": "https://localhost:8080/"
        },
        "outputId": "ddaba243-c5f9-41b1-c0e8-c8dcf44983ba"
      },
      "source": [
        "# O método mean() devolve a média aritmética dos números dados a ele. \n",
        "nova_amostra['time_spend_company'].mean()"
      ],
      "execution_count": 19,
      "outputs": [
        {
          "output_type": "execute_result",
          "data": {
            "text/plain": [
              "3.0"
            ]
          },
          "metadata": {
            "tags": []
          },
          "execution_count": 19
        }
      ]
    },
    {
      "cell_type": "markdown",
      "metadata": {
        "id": "tXYv65RDI78_"
      },
      "source": [
        "2. Média das variáveis 'last_evaluation' e 'number_project'."
      ]
    },
    {
      "cell_type": "code",
      "metadata": {
        "id": "aMEOqbkeGnkd",
        "colab": {
          "base_uri": "https://localhost:8080/"
        },
        "outputId": "689d189b-b3d9-403c-ab47-5ffac4515650"
      },
      "source": [
        "print('média da última avaliação: {:.2f}'.format(nova_amostra['last_evaluation'].mean()))\n",
        "print('média do número de projetos feitos pelos funcionários {}'.format(nova_amostra['number_project'].mean()))"
      ],
      "execution_count": 20,
      "outputs": [
        {
          "output_type": "stream",
          "text": [
            "média da última avaliação: 0.76\n",
            "média do número de projetos feitos pelos funcionários 3.6666666666666665\n"
          ],
          "name": "stdout"
        }
      ]
    },
    {
      "cell_type": "markdown",
      "metadata": {
        "id": "o99BrUxEKhpm"
      },
      "source": [
        "3. Média de vezes que o funcionário visita o LinkedIn por nível de salário."
      ]
    },
    {
      "cell_type": "code",
      "metadata": {
        "id": "NZg8pK0jL_Jg",
        "colab": {
          "base_uri": "https://localhost:8080/"
        },
        "outputId": "92502f6a-df5c-4a5b-9a16-1901b4c28ee1"
      },
      "source": [
        "nova_amostra.groupby(by='salary').mean()['LinkedIn_Hits']"
      ],
      "execution_count": 21,
      "outputs": [
        {
          "output_type": "execute_result",
          "data": {
            "text/plain": [
              "salary\n",
              "low    11.0\n",
              "Name: LinkedIn_Hits, dtype: float64"
            ]
          },
          "metadata": {
            "tags": []
          },
          "execution_count": 21
        }
      ]
    },
    {
      "cell_type": "markdown",
      "metadata": {
        "id": "M3KxEJVPNxk7"
      },
      "source": [
        "a. Total populacional\n"
      ]
    },
    {
      "cell_type": "code",
      "metadata": {
        "id": "9uAv7DsbMXXd",
        "colab": {
          "base_uri": "https://localhost:8080/"
        },
        "outputId": "92ebf906-2316-4d9a-94d2-5c2bb43d10c8"
      },
      "source": [
        "nova_amostra['time_spend_company'].sum()"
      ],
      "execution_count": 22,
      "outputs": [
        {
          "output_type": "execute_result",
          "data": {
            "text/plain": [
              "9"
            ]
          },
          "metadata": {
            "tags": []
          },
          "execution_count": 22
        }
      ]
    },
    {
      "cell_type": "markdown",
      "metadata": {
        "id": "KIi6zazPP-vi"
      },
      "source": [
        "b. Média populacional"
      ]
    },
    {
      "cell_type": "code",
      "metadata": {
        "id": "xjGfjaD9OABf",
        "colab": {
          "base_uri": "https://localhost:8080/"
        },
        "outputId": "34bff980-9fbc-4881-f4a6-2becaf0bd3bc"
      },
      "source": [
        "nova_amostra['time_spend_company'].mean()"
      ],
      "execution_count": 23,
      "outputs": [
        {
          "output_type": "execute_result",
          "data": {
            "text/plain": [
              "3.0"
            ]
          },
          "metadata": {
            "tags": []
          },
          "execution_count": 23
        }
      ]
    },
    {
      "cell_type": "markdown",
      "metadata": {
        "id": "b7mvcSxyQg6I"
      },
      "source": [
        "c. Variância populacional"
      ]
    },
    {
      "cell_type": "code",
      "metadata": {
        "id": "opqt2U55Q4a6",
        "colab": {
          "base_uri": "https://localhost:8080/"
        },
        "outputId": "b9aa3e1c-c28d-4be7-c2f7-92d035750dfb"
      },
      "source": [
        "nova_amostra['time_spend_company'].var()"
      ],
      "execution_count": 24,
      "outputs": [
        {
          "output_type": "execute_result",
          "data": {
            "text/plain": [
              "1.0"
            ]
          },
          "metadata": {
            "tags": []
          },
          "execution_count": 24
        }
      ]
    },
    {
      "cell_type": "markdown",
      "metadata": {
        "id": "nc8ZCjj0QrLN"
      },
      "source": [
        "d. Covariância populacional"
      ]
    },
    {
      "cell_type": "code",
      "metadata": {
        "id": "VHV-l4_DRANt",
        "colab": {
          "base_uri": "https://localhost:8080/"
        },
        "outputId": "d0ec7df1-a68e-4e03-9ac2-ab90a686ccba"
      },
      "source": [
        "import numpy as np\n",
        "\n",
        "X = np.stack((nova_amostra['time_spend_company'], nova_amostra['number_project']), axis=0)\n",
        "np.cov(X)"
      ],
      "execution_count": 25,
      "outputs": [
        {
          "output_type": "execute_result",
          "data": {
            "text/plain": [
              "array([[1.        , 1.5       ],\n",
              "       [1.5       , 4.33333333]])"
            ]
          },
          "metadata": {
            "tags": []
          },
          "execution_count": 25
        }
      ]
    },
    {
      "cell_type": "markdown",
      "metadata": {
        "id": "w7nfimQaQtj1"
      },
      "source": [
        "e. Correlação populacional"
      ]
    },
    {
      "cell_type": "code",
      "metadata": {
        "id": "0iknBNMhS5-L",
        "colab": {
          "base_uri": "https://localhost:8080/"
        },
        "outputId": "ace18c65-3fc1-4877-a6f1-335bf6d68605"
      },
      "source": [
        "#correlação\n",
        "corr = nova_amostra.corr()\n",
        "\n",
        "#valores absolutos\n",
        "corr_target = abs(corr['time_spend_company'])\n",
        "\n",
        "#Selecionando as features com maior correlação com a variável de interesse\n",
        "relevant_features = corr_target[corr_target>0.8]\n",
        "relevant_features"
      ],
      "execution_count": 26,
      "outputs": [
        {
          "output_type": "execute_result",
          "data": {
            "text/plain": [
              "Will_Relocate                            0.866025\n",
              "time_spend_company                       1.000000\n",
              "Work_accident                            0.866025\n",
              "left_Company                             0.866025\n",
              "Emp_Work_Status_3                        0.866025\n",
              "Emp_Collaborative_5                      0.866025\n",
              "Sensor_Proximity(1-highest/10-lowest)    0.866025\n",
              "Name: time_spend_company, dtype: float64"
            ]
          },
          "metadata": {
            "tags": []
          },
          "execution_count": 26
        }
      ]
    },
    {
      "cell_type": "markdown",
      "metadata": {
        "id": "h6s5CoY_QwrB"
      },
      "source": [
        "f. Razão populacional"
      ]
    },
    {
      "cell_type": "code",
      "metadata": {
        "id": "v3vZOrhRQOZR",
        "colab": {
          "base_uri": "https://localhost:8080/"
        },
        "outputId": "b5f69671-d028-4ae3-e1e9-85068217f70f"
      },
      "source": [
        "x = nova_amostra['time_spend_company'].sum()\n",
        "y = nova_amostra['number_project'].sum()\n",
        "r_populacional = x/y\n",
        "r_populacional"
      ],
      "execution_count": 27,
      "outputs": [
        {
          "output_type": "execute_result",
          "data": {
            "text/plain": [
              "0.8181818181818182"
            ]
          },
          "metadata": {
            "tags": []
          },
          "execution_count": 27
        }
      ]
    },
    {
      "cell_type": "markdown",
      "metadata": {
        "id": "KfOknRN6VQXR"
      },
      "source": [
        "g. Razão média populacional"
      ]
    },
    {
      "cell_type": "code",
      "metadata": {
        "id": "eY1P7TdNU7_D",
        "colab": {
          "base_uri": "https://localhost:8080/"
        },
        "outputId": "5b60c9e7-cf33-4c73-9efa-0f908b256665"
      },
      "source": [
        "r_populacional/3"
      ],
      "execution_count": 28,
      "outputs": [
        {
          "output_type": "execute_result",
          "data": {
            "text/plain": [
              "0.27272727272727276"
            ]
          },
          "metadata": {
            "tags": []
          },
          "execution_count": 28
        }
      ]
    },
    {
      "cell_type": "markdown",
      "metadata": {
        "id": "4ps17kxWm8Iq"
      },
      "source": [
        "# Amostragem Estratificada"
      ]
    },
    {
      "cell_type": "markdown",
      "metadata": {
        "id": "fpgH55jApb7m"
      },
      "source": [
        "Consiste em dividir toda a população em estratos, de maneira que um indivíduo pode fazer parte apenas de um único estrato. Após tais camadas serem definidas, selecionam-se os indivíduos utilizando qualquer técnica de amostragem em cada um dos estratos de forma separada.\n",
        "\n",
        "Esse método é muito utilizado em métodos de Aprendizagem de Máquina Supervisionada quando é separada uma amostra de teste e outra de treino. Nesse sentido, separamos a amostra abaixo de maneira estratificada para, quem sabe, futuros projetos de Machine Learning.\n"
      ]
    },
    {
      "cell_type": "code",
      "metadata": {
        "id": "8HEcWIpkVha7"
      },
      "source": [
        "x = dados.drop('left_Company', axis=1) #excluindo somente a variável que nos diz se o funcionário em questão deixou ou não a empreas\n",
        "y = dados['left_Company'] #selecionando somente a variável left_company (explicada acima) do dataset\n",
        "\n",
        "#separando os dados em treino e teste\n",
        "x_train, amostra3, y_train, y_test = train_test_split(x, y, test_size=0.3, stratify=y)\n"
      ],
      "execution_count": 71,
      "outputs": []
    },
    {
      "cell_type": "markdown",
      "metadata": {
        "id": "z_EfaOV7rBub"
      },
      "source": [
        "Agora, nosso banco de dados foi divido em 4 'amostras', onde em duas (y_train e y_test) estão somente registros da variável 'Department', e outras duas (x_train e x_test) que estão os restantes das variáveis. \n",
        "\n",
        "O que difere nessas amostras é a quantidade de registros, pois os que tem o final 'train', contêm 70% dos registros do banco de dados original, enquanto que os que tem final 'test' eu defini apenas 30% dos dados, como mostrado a seguir."
      ]
    },
    {
      "cell_type": "code",
      "metadata": {
        "colab": {
          "base_uri": "https://localhost:8080/"
        },
        "id": "6EcQ-r-Ql72q",
        "outputId": "9aa2d508-5ce3-4793-b4c5-df419c52f798"
      },
      "source": [
        "#primeiro número se refere ao número de registros e o segundo ao número de variáveis.\n",
        "amostra3.shape"
      ],
      "execution_count": 73,
      "outputs": [
        {
          "output_type": "execute_result",
          "data": {
            "text/plain": [
              "(4500, 38)"
            ]
          },
          "metadata": {
            "tags": []
          },
          "execution_count": 73
        }
      ]
    },
    {
      "cell_type": "code",
      "metadata": {
        "colab": {
          "base_uri": "https://localhost:8080/"
        },
        "id": "P-9rShN0emNp",
        "outputId": "4e0c694a-4204-407d-a2dc-e739216c24cc"
      },
      "source": [
        "print('a média é: {:.2f}'.format(amostra3['Sensor_Heartbeat(Average/Min)'].mean()))\n",
        "print('A variância é: {:.2f}'.format(amostra3['Sensor_Heartbeat(Average/Min)'].std()))"
      ],
      "execution_count": 80,
      "outputs": [
        {
          "output_type": "stream",
          "text": [
            "a média é: 78.01\n",
            "A variância é: 7.15\n"
          ],
          "name": "stdout"
        }
      ]
    },
    {
      "cell_type": "markdown",
      "metadata": {
        "id": "23ZSOgBlnFEX"
      },
      "source": [
        "# Amostragem por conglomerado"
      ]
    },
    {
      "cell_type": "markdown",
      "metadata": {
        "id": "GoppicNio-D6"
      },
      "source": [
        "Consiste na seleção de pessoas em grupos. Esse método é muito usado em questionários por questão de praticidade. Diferentemente da amostragem estratificada, no qual todos os estratos devem fazer parte da amostra, a amostragem por conglomerado pode selecionar por amostragem.\n",
        "\n",
        "No nosso caso queremos mapear somente os registros de funcionários do banco de dados que trabalham no setor de vendas (um público bem específico). Isso pode ser visto com os códigos abaixo:"
      ]
    },
    {
      "cell_type": "code",
      "metadata": {
        "id": "WwPk-kTEnGyc"
      },
      "source": [
        "#Agrupando por Departamento e o transformando em um dataframe com 30% dos registros\n",
        "grupo = dados.groupby('Department').apply(pd.DataFrame.sample, frac=.3)"
      ],
      "execution_count": 34,
      "outputs": []
    },
    {
      "cell_type": "code",
      "metadata": {
        "id": "FwINLnTNn_e2"
      },
      "source": [
        "#dentro do grupo, selecionando somente o departamento de vendas \n",
        "amostra4 = grupo[grupo.Department=='Sales']"
      ],
      "execution_count": 35,
      "outputs": []
    },
    {
      "cell_type": "code",
      "metadata": {
        "colab": {
          "base_uri": "https://localhost:8080/",
          "height": 323
        },
        "id": "SbqWwsLVoKvP",
        "outputId": "84bcfcf7-bca0-4f86-f6e0-e6de858b5118"
      },
      "source": [
        "#mostrando a amostra selecionada\n",
        "amostra4.head()"
      ],
      "execution_count": 60,
      "outputs": [
        {
          "output_type": "execute_result",
          "data": {
            "text/html": [
              "<div>\n",
              "<style scoped>\n",
              "    .dataframe tbody tr th:only-of-type {\n",
              "        vertical-align: middle;\n",
              "    }\n",
              "\n",
              "    .dataframe tbody tr th {\n",
              "        vertical-align: top;\n",
              "    }\n",
              "\n",
              "    .dataframe thead th {\n",
              "        text-align: right;\n",
              "    }\n",
              "</style>\n",
              "<table border=\"1\" class=\"dataframe\">\n",
              "  <thead>\n",
              "    <tr style=\"text-align: right;\">\n",
              "      <th></th>\n",
              "      <th></th>\n",
              "      <th>Department</th>\n",
              "      <th>GEO</th>\n",
              "      <th>Role</th>\n",
              "      <th>Will_Relocate</th>\n",
              "      <th>Percent_Remote</th>\n",
              "      <th>EMP_Sat_Remote_1</th>\n",
              "      <th>EMP_Sat_Remote_2</th>\n",
              "      <th>EMP_Sat_Remote_5</th>\n",
              "      <th>last_evaluation</th>\n",
              "      <th>number_project</th>\n",
              "      <th>average_montly_hours</th>\n",
              "      <th>time_spend_company</th>\n",
              "      <th>Work_accident</th>\n",
              "      <th>left_Company</th>\n",
              "      <th>promotion_last_5years</th>\n",
              "      <th>salary</th>\n",
              "      <th>Gender</th>\n",
              "      <th>LinkedIn_Hits</th>\n",
              "      <th>Emp_Work_Status2</th>\n",
              "      <th>Emp_Work_Status_3</th>\n",
              "      <th>Emp_Work_Status_4</th>\n",
              "      <th>Emp_Work_Status_5</th>\n",
              "      <th>Emp_Identity</th>\n",
              "      <th>Emp_Role</th>\n",
              "      <th>Emp_Position</th>\n",
              "      <th>Emp_Title</th>\n",
              "      <th>Emp_Competitive_1</th>\n",
              "      <th>Emp_Competitive_2</th>\n",
              "      <th>Emp_Competitive_3</th>\n",
              "      <th>Emp_Competitive_4</th>\n",
              "      <th>Emp_Competitive_5</th>\n",
              "      <th>Emp_Collaborative_1</th>\n",
              "      <th>Emp_Collaborative_2</th>\n",
              "      <th>Emp_Collaborative_3</th>\n",
              "      <th>Emp_Collaborative_4</th>\n",
              "      <th>Emp_Collaborative_5</th>\n",
              "      <th>Sensor_StepCount</th>\n",
              "      <th>Sensor_Heartbeat(Average/Min)</th>\n",
              "      <th>Sensor_Proximity(1-highest/10-lowest)</th>\n",
              "    </tr>\n",
              "    <tr>\n",
              "      <th>Department</th>\n",
              "      <th></th>\n",
              "      <th></th>\n",
              "      <th></th>\n",
              "      <th></th>\n",
              "      <th></th>\n",
              "      <th></th>\n",
              "      <th></th>\n",
              "      <th></th>\n",
              "      <th></th>\n",
              "      <th></th>\n",
              "      <th></th>\n",
              "      <th></th>\n",
              "      <th></th>\n",
              "      <th></th>\n",
              "      <th></th>\n",
              "      <th></th>\n",
              "      <th></th>\n",
              "      <th></th>\n",
              "      <th></th>\n",
              "      <th></th>\n",
              "      <th></th>\n",
              "      <th></th>\n",
              "      <th></th>\n",
              "      <th></th>\n",
              "      <th></th>\n",
              "      <th></th>\n",
              "      <th></th>\n",
              "      <th></th>\n",
              "      <th></th>\n",
              "      <th></th>\n",
              "      <th></th>\n",
              "      <th></th>\n",
              "      <th></th>\n",
              "      <th></th>\n",
              "      <th></th>\n",
              "      <th></th>\n",
              "      <th></th>\n",
              "      <th></th>\n",
              "      <th></th>\n",
              "      <th></th>\n",
              "    </tr>\n",
              "  </thead>\n",
              "  <tbody>\n",
              "    <tr>\n",
              "      <th rowspan=\"5\" valign=\"top\">Sales</th>\n",
              "      <th>9673</th>\n",
              "      <td>Sales</td>\n",
              "      <td>Colombia</td>\n",
              "      <td>Level 2-4</td>\n",
              "      <td>0</td>\n",
              "      <td>0.8</td>\n",
              "      <td>3</td>\n",
              "      <td>5</td>\n",
              "      <td>5</td>\n",
              "      <td>0.81</td>\n",
              "      <td>3</td>\n",
              "      <td>175</td>\n",
              "      <td>3</td>\n",
              "      <td>0</td>\n",
              "      <td>0</td>\n",
              "      <td>0</td>\n",
              "      <td>medium</td>\n",
              "      <td>F</td>\n",
              "      <td>9</td>\n",
              "      <td>1</td>\n",
              "      <td>3</td>\n",
              "      <td>4</td>\n",
              "      <td>5</td>\n",
              "      <td>3</td>\n",
              "      <td>4</td>\n",
              "      <td>2</td>\n",
              "      <td>2</td>\n",
              "      <td>4</td>\n",
              "      <td>2</td>\n",
              "      <td>2</td>\n",
              "      <td>5</td>\n",
              "      <td>1</td>\n",
              "      <td>2</td>\n",
              "      <td>1</td>\n",
              "      <td>5</td>\n",
              "      <td>5</td>\n",
              "      <td>4</td>\n",
              "      <td>5797</td>\n",
              "      <td>73</td>\n",
              "      <td>2</td>\n",
              "    </tr>\n",
              "    <tr>\n",
              "      <th>11995</th>\n",
              "      <td>Sales</td>\n",
              "      <td>UK</td>\n",
              "      <td>Level 2-4</td>\n",
              "      <td>0</td>\n",
              "      <td>0.8</td>\n",
              "      <td>3</td>\n",
              "      <td>5</td>\n",
              "      <td>5</td>\n",
              "      <td>0.89</td>\n",
              "      <td>4</td>\n",
              "      <td>201</td>\n",
              "      <td>8</td>\n",
              "      <td>0</td>\n",
              "      <td>0</td>\n",
              "      <td>0</td>\n",
              "      <td>medium</td>\n",
              "      <td>M</td>\n",
              "      <td>4</td>\n",
              "      <td>1</td>\n",
              "      <td>2</td>\n",
              "      <td>5</td>\n",
              "      <td>3</td>\n",
              "      <td>2</td>\n",
              "      <td>4</td>\n",
              "      <td>3</td>\n",
              "      <td>3</td>\n",
              "      <td>2</td>\n",
              "      <td>2</td>\n",
              "      <td>2</td>\n",
              "      <td>4</td>\n",
              "      <td>3</td>\n",
              "      <td>1</td>\n",
              "      <td>4</td>\n",
              "      <td>1</td>\n",
              "      <td>3</td>\n",
              "      <td>5</td>\n",
              "      <td>4295</td>\n",
              "      <td>77</td>\n",
              "      <td>5</td>\n",
              "    </tr>\n",
              "    <tr>\n",
              "      <th>14197</th>\n",
              "      <td>Sales</td>\n",
              "      <td>Turkey</td>\n",
              "      <td>Level 2-4</td>\n",
              "      <td>1</td>\n",
              "      <td>0.8</td>\n",
              "      <td>5</td>\n",
              "      <td>5</td>\n",
              "      <td>4</td>\n",
              "      <td>0.98</td>\n",
              "      <td>5</td>\n",
              "      <td>245</td>\n",
              "      <td>5</td>\n",
              "      <td>0</td>\n",
              "      <td>1</td>\n",
              "      <td>0</td>\n",
              "      <td>low</td>\n",
              "      <td>M</td>\n",
              "      <td>5</td>\n",
              "      <td>5</td>\n",
              "      <td>4</td>\n",
              "      <td>1</td>\n",
              "      <td>3</td>\n",
              "      <td>2</td>\n",
              "      <td>1</td>\n",
              "      <td>1</td>\n",
              "      <td>2</td>\n",
              "      <td>2</td>\n",
              "      <td>1</td>\n",
              "      <td>1</td>\n",
              "      <td>4</td>\n",
              "      <td>1</td>\n",
              "      <td>5</td>\n",
              "      <td>2</td>\n",
              "      <td>5</td>\n",
              "      <td>2</td>\n",
              "      <td>2</td>\n",
              "      <td>1252</td>\n",
              "      <td>89</td>\n",
              "      <td>3</td>\n",
              "    </tr>\n",
              "    <tr>\n",
              "      <th>11341</th>\n",
              "      <td>Sales</td>\n",
              "      <td>UK</td>\n",
              "      <td>Level 1</td>\n",
              "      <td>1</td>\n",
              "      <td>0.8</td>\n",
              "      <td>3</td>\n",
              "      <td>5</td>\n",
              "      <td>5</td>\n",
              "      <td>0.87</td>\n",
              "      <td>3</td>\n",
              "      <td>155</td>\n",
              "      <td>3</td>\n",
              "      <td>0</td>\n",
              "      <td>0</td>\n",
              "      <td>0</td>\n",
              "      <td>medium</td>\n",
              "      <td>F</td>\n",
              "      <td>2</td>\n",
              "      <td>1</td>\n",
              "      <td>3</td>\n",
              "      <td>3</td>\n",
              "      <td>4</td>\n",
              "      <td>4</td>\n",
              "      <td>2</td>\n",
              "      <td>2</td>\n",
              "      <td>4</td>\n",
              "      <td>3</td>\n",
              "      <td>5</td>\n",
              "      <td>3</td>\n",
              "      <td>1</td>\n",
              "      <td>1</td>\n",
              "      <td>2</td>\n",
              "      <td>4</td>\n",
              "      <td>4</td>\n",
              "      <td>1</td>\n",
              "      <td>1</td>\n",
              "      <td>5446</td>\n",
              "      <td>77</td>\n",
              "      <td>3</td>\n",
              "    </tr>\n",
              "    <tr>\n",
              "      <th>4285</th>\n",
              "      <td>Sales</td>\n",
              "      <td>Korea</td>\n",
              "      <td>Manager</td>\n",
              "      <td>0</td>\n",
              "      <td>0.4</td>\n",
              "      <td>2</td>\n",
              "      <td>3</td>\n",
              "      <td>2</td>\n",
              "      <td>0.58</td>\n",
              "      <td>2</td>\n",
              "      <td>181</td>\n",
              "      <td>4</td>\n",
              "      <td>0</td>\n",
              "      <td>0</td>\n",
              "      <td>0</td>\n",
              "      <td>medium</td>\n",
              "      <td>M</td>\n",
              "      <td>13</td>\n",
              "      <td>4</td>\n",
              "      <td>5</td>\n",
              "      <td>4</td>\n",
              "      <td>3</td>\n",
              "      <td>2</td>\n",
              "      <td>2</td>\n",
              "      <td>1</td>\n",
              "      <td>1</td>\n",
              "      <td>2</td>\n",
              "      <td>1</td>\n",
              "      <td>2</td>\n",
              "      <td>3</td>\n",
              "      <td>2</td>\n",
              "      <td>1</td>\n",
              "      <td>1</td>\n",
              "      <td>2</td>\n",
              "      <td>4</td>\n",
              "      <td>1</td>\n",
              "      <td>2309</td>\n",
              "      <td>89</td>\n",
              "      <td>7</td>\n",
              "    </tr>\n",
              "  </tbody>\n",
              "</table>\n",
              "</div>"
            ],
            "text/plain": [
              "                 Department  ... Sensor_Proximity(1-highest/10-lowest)\n",
              "Department                   ...                                      \n",
              "Sales      9673       Sales  ...                                     2\n",
              "           11995      Sales  ...                                     5\n",
              "           14197      Sales  ...                                     3\n",
              "           11341      Sales  ...                                     3\n",
              "           4285       Sales  ...                                     7\n",
              "\n",
              "[5 rows x 39 columns]"
            ]
          },
          "metadata": {
            "tags": []
          },
          "execution_count": 60
        }
      ]
    },
    {
      "cell_type": "code",
      "metadata": {
        "colab": {
          "base_uri": "https://localhost:8080/"
        },
        "id": "F4a4h8nGdgWn",
        "outputId": "b5bf894a-9182-41b4-915f-a00b65536a3c"
      },
      "source": [
        "#750 registros com 39 colunas\n",
        "amostra4.shape"
      ],
      "execution_count": 63,
      "outputs": [
        {
          "output_type": "execute_result",
          "data": {
            "text/plain": [
              "(750, 39)"
            ]
          },
          "metadata": {
            "tags": []
          },
          "execution_count": 63
        }
      ]
    },
    {
      "cell_type": "code",
      "metadata": {
        "colab": {
          "base_uri": "https://localhost:8080/"
        },
        "id": "5XraYplmdkFc",
        "outputId": "d22fa9d7-1c33-4505-9297-e35467497654"
      },
      "source": [
        "print('a média é: {:.2f}'.format(amostra4['Sensor_Heartbeat(Average/Min)'].mean()))\n",
        "print('A variância é: {:.2f}'.format(amostra4['Sensor_Heartbeat(Average/Min)'].std()))"
      ],
      "execution_count": 81,
      "outputs": [
        {
          "output_type": "stream",
          "text": [
            "a média é: 77.94\n",
            "A variância é: 7.37\n"
          ],
          "name": "stdout"
        }
      ]
    },
    {
      "cell_type": "markdown",
      "metadata": {
        "id": "-Wxu2Euca5zc"
      },
      "source": [
        "# Comparando o valor das médias e das variâncias das amostras e da população."
      ]
    },
    {
      "cell_type": "code",
      "metadata": {
        "id": "5ryJ7N53oLdS",
        "colab": {
          "base_uri": "https://localhost:8080/"
        },
        "outputId": "2edb53ae-21bb-4674-8ee1-7107bcc62e88"
      },
      "source": [
        "print('A média da amostra 1 é: {:.2f}'.format(amostra1['Sensor_Heartbeat(Average/Min)'].mean()))\n",
        "print('A variância da amostra 1 é: {:.2f}'.format(amostra1['Sensor_Heartbeat(Average/Min)'].std()))\n",
        "\n",
        "print('A média da amostra 2 é: {:.2f}'.format(amostra2['Sensor_Heartbeat(Average/Min)'].mean()))\n",
        "print('A variância da amostra 2 é: {:.2f}'.format(amostra2['Sensor_Heartbeat(Average/Min)'].std()))\n",
        "\n",
        "print('A média da amostra 3 é: {:.2f}'.format(amostra3['Sensor_Heartbeat(Average/Min)'].mean()))\n",
        "print('A variância da amostra 3 é: {:.2f}'.format(amostra3['Sensor_Heartbeat(Average/Min)'].std()))\n",
        "\n",
        "print('A média da amostra 3 é: {:.2f}'.format(amostra4['Sensor_Heartbeat(Average/Min)'].mean()))\n",
        "print('A variância da amostra 3 é: {:.2f}'.format(amostra4['Sensor_Heartbeat(Average/Min)'].std()))\n",
        "\n",
        "print('A média da população é: {:.2f}'.format(dados['Sensor_Heartbeat(Average/Min)'].mean()))\n",
        "print('A variância da população é: {:.2f}'.format(dados['Sensor_Heartbeat(Average/Min)'].std()))\n"
      ],
      "execution_count": 86,
      "outputs": [
        {
          "output_type": "stream",
          "text": [
            "A média da amostra 1 é: 77.91\n",
            "A variância da amostra 1 é: 7.18\n",
            "A média da amostra 2 é: 77.84\n",
            "A variância da amostra 2 é: 7.25\n",
            "A média da amostra 3 é: 78.01\n",
            "A variância da amostra 3 é: 7.15\n",
            "A média da amostra 3 é: 77.94\n",
            "A variância da amostra 3 é: 7.37\n",
            "A média da população é: 77.97\n",
            "A variância da população é: 7.25\n"
          ],
          "name": "stdout"
        }
      ]
    },
    {
      "cell_type": "code",
      "metadata": {
        "id": "n0JyCJxYigfe"
      },
      "source": [
        ""
      ],
      "execution_count": null,
      "outputs": []
    }
  ]
}